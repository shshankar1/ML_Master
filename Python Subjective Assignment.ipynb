{
 "cells": [
  {
   "cell_type": "markdown",
   "metadata": {},
   "source": [
    "<h3>Q1. Write a Python program to get the string from the given string where all the occurrence of its first char has been changed to '\\$,' except first char itself?</h3><br/> \n",
    "Sample String: 'prospect' <br/>\n",
    "Expected Result : 'pros$ect'"
   ]
  },
  {
   "cell_type": "code",
   "execution_count": 4,
   "metadata": {},
   "outputs": [],
   "source": [
    "def replace_all_except_first(input, replacement):\n",
    "    reference = input[0]\n",
    "    input = input.replace(reference, replacement)\n",
    "    output = reference + input[1:]\n",
    "    return output            "
   ]
  },
  {
   "cell_type": "code",
   "execution_count": 5,
   "metadata": {},
   "outputs": [
    {
     "name": "stdout",
     "output_type": "stream",
     "text": [
      "pros$ect\n"
     ]
    }
   ],
   "source": [
    "print(replace_all_except_first('prospect', '$'))"
   ]
  },
  {
   "cell_type": "markdown",
   "metadata": {},
   "source": [
    "<h3>Q2. Write a Python program to get the single string from the two given strings, and separated by the space and swap the first two characters of each string?</h3><br/> \n",
    "Sample String : 'abc', 'xyz'.  <br/>\n",
    "Expected Result: 'xyc abz'"
   ]
  },
  {
   "cell_type": "code",
   "execution_count": 8,
   "metadata": {},
   "outputs": [],
   "source": [
    "def swap_char_n_concat(word_1, word_2):\n",
    "    word_1_temp = word_2[:2]+word_1[2:]\n",
    "    word_2_temp = word_1[:2]+word_2[2:]\n",
    "    return word_1_temp + word_2_temp"
   ]
  },
  {
   "cell_type": "code",
   "execution_count": 9,
   "metadata": {},
   "outputs": [
    {
     "name": "stdout",
     "output_type": "stream",
     "text": [
      "abzxyc\n"
     ]
    }
   ],
   "source": [
    "print(swap_char_n_concat('xyz', 'abc'))"
   ]
  },
  {
   "cell_type": "markdown",
   "metadata": {},
   "source": [
    "<h3>Q3. Write the Python program to add 'ing' at the end of the given string (length of the string should be at least 3). If given string already ends with 'ing,' then add 'ly' instead. If string length of the given string is less than 3, leave it unchanged?</h3><br/>\n",
    "Sample string: ' abc ' <br/>\n",
    "Expected result: ' abcing ' <br/>\n",
    "Sample string: ' string ' <br/>\n",
    "Expected result: ' stringly '<br/>"
   ]
  },
  {
   "cell_type": "code",
   "execution_count": 23,
   "metadata": {},
   "outputs": [],
   "source": [
    "def transform_word(word):\n",
    "    transform = word\n",
    "    if len(word)>=3:\n",
    "        if word.endswith('ing'):\n",
    "            transform = word +'ly'\n",
    "        else:\n",
    "            transform = word+'ing'\n",
    "    return transform"
   ]
  },
  {
   "cell_type": "code",
   "execution_count": 26,
   "metadata": {},
   "outputs": [
    {
     "name": "stdout",
     "output_type": "stream",
     "text": [
      "abcing\n",
      "stringly\n",
      "sh\n"
     ]
    }
   ],
   "source": [
    "print(transform_word('abc'))\n",
    "print(transform_word('string'))\n",
    "print(transform_word('sh'))"
   ]
  },
  {
   "cell_type": "markdown",
   "metadata": {},
   "source": [
    "<h3>Q4. Write the Python program to find the first appearance of the substring 'not' and 'poor' from the given string, if 'not' follows the 'poor', replace the whole 'not'...' poor' substring with 'good'.Return the resulting string. </h3><br/>\n",
    "Sample string: 'The lyrics are not that poor!' <br/>\n",
    "'The lyrics are poor!'<br/>\n",
    "Expected Result: 'The lyrics are good!' <br/>\n",
    "'The lyrics are poor!'<br/>"
   ]
  },
  {
   "cell_type": "code",
   "execution_count": 35,
   "metadata": {},
   "outputs": [
    {
     "name": "stdout",
     "output_type": "stream",
     "text": [
      "The lyrics are poor!\n",
      "The lyrics are good!\n"
     ]
    }
   ],
   "source": [
    "def get_assertive_affirmative(sentence):\n",
    "    output = sentence\n",
    "    not_index = sentence.find('not')\n",
    "    poor_index = sentence.find('poor')\n",
    "    \n",
    "    if not_index <= poor_index and not_index != -1 and poor_index != -1:\n",
    "        output = sentence[:not_index]+ 'good' + sentence[poor_index+len('poor'):]\n",
    "    return output\n",
    "        \n",
    "    \n",
    "print(get_assertive_affirmative('The lyrics are poor!'))\n",
    "print(get_assertive_affirmative('The lyrics are not that poor!'))"
   ]
  },
  {
   "cell_type": "markdown",
   "metadata": {},
   "source": [
    "<h3>Q5. Write the Python program to remove the characters which have odd index values of a given string.</h3>"
   ]
  },
  {
   "cell_type": "code",
   "execution_count": 48,
   "metadata": {},
   "outputs": [
    {
     "name": "stdout",
     "output_type": "stream",
     "text": [
      "tetet\n"
     ]
    }
   ],
   "source": [
    "remove_odd_place_holder = lambda x: ''.join([val for index, val in enumerate(x) if index %2 ==0])\n",
    "\n",
    "print(remove_odd_place_holder('treatment'))"
   ]
  },
  {
   "cell_type": "markdown",
   "metadata": {},
   "source": [
    "<h3>Q6. Write the Python function to get a string made of 4 copies of the last two characters of the specified string (length must be at least 2). </h3><br/>\n",
    "Sample function and result : <br/>\n",
    "insert-end ('Python') -> abababab <br/>\n",
    "insert-end('Exercises') -> jkjkjkjk <br/>"
   ]
  },
  {
   "cell_type": "code",
   "execution_count": 53,
   "metadata": {},
   "outputs": [
    {
     "name": "stdout",
     "output_type": "stream",
     "text": [
      "onononon\n",
      "eseseses\n",
      "t\n"
     ]
    }
   ],
   "source": [
    "def make_last_2_char_copy(word):\n",
    "    return word[-2:]*4 if len(word)>=2 else word\n",
    "\n",
    "print(make_last_2_char_copy('Python'))\n",
    "print(make_last_2_char_copy('Exercises'))\n",
    "print(make_last_2_char_copy('t'))"
   ]
  },
  {
   "cell_type": "markdown",
   "metadata": {},
   "source": [
    "<h3>Q7. Write the python function to get a string made of its first three characters of a specified string. If the length of the string is less than 3 then return the original string.</h3><br/>\n",
    "Sample function and result : <br/>\n",
    "first-three('ipy') -> ipy <br/>\n",
    "first-three('python') -> pyt<br/>"
   ]
  },
  {
   "cell_type": "code",
   "execution_count": 54,
   "metadata": {},
   "outputs": [
    {
     "name": "stdout",
     "output_type": "stream",
     "text": [
      "ipy\n",
      "pyt\n"
     ]
    }
   ],
   "source": [
    "get_first_3_chars = lambda x: x[:3] if len(x)>3 else x\n",
    "\n",
    "print(get_first_3_chars('ipy'))\n",
    "print(get_first_3_chars('python'))"
   ]
  },
  {
   "cell_type": "markdown",
   "metadata": {},
   "source": [
    "<h3>Q8. Write the python program to print the following floating numbers up to 2 decimal places?</h3>"
   ]
  },
  {
   "cell_type": "code",
   "execution_count": 63,
   "metadata": {},
   "outputs": [
    {
     "name": "stdout",
     "output_type": "stream",
     "text": [
      "3.57\n"
     ]
    }
   ],
   "source": [
    "print(round(3.5674, 2))"
   ]
  },
  {
   "cell_type": "markdown",
   "metadata": {},
   "source": [
    "<h3>Q9. Write the Python program to format a number with a percentage?</h3>"
   ]
  },
  {
   "cell_type": "code",
   "execution_count": 66,
   "metadata": {},
   "outputs": [
    {
     "name": "stdout",
     "output_type": "stream",
     "text": [
      "Actual number 0.45 represented in percentage: 45.00%\n"
     ]
    }
   ],
   "source": [
    "number = 0.45\n",
    "\n",
    "print('Actual number {} represented in percentage: {:.2%}'.format(number, number))"
   ]
  },
  {
   "cell_type": "markdown",
   "metadata": {},
   "source": [
    "<h3>Q10. Write the Python program to count occurrences of a substring in a String?</h3>"
   ]
  },
  {
   "cell_type": "code",
   "execution_count": 82,
   "metadata": {},
   "outputs": [
    {
     "name": "stdout",
     "output_type": "stream",
     "text": [
      "2\n"
     ]
    }
   ],
   "source": [
    "import re\n",
    "def get_occurance_count(search_text, text):\n",
    "    occurance = 0\n",
    "    for match in re.finditer(search_text, text):\n",
    "        occurance+=1\n",
    "    return occurance\n",
    "    \n",
    "print(get_occurance_count('ti', 'constitution'))"
   ]
  },
  {
   "cell_type": "markdown",
   "metadata": {},
   "source": [
    "<h3>Q11. Write the Python program to count repeated characters in a string.</h3><br/>\n",
    "Sample string: ' thequickbrownjumpsoverthelazydog ' <br/>\n",
    "Expected output: <br/>\n",
    "o 3 <br/>\n",
    "e 3 <br/>\n",
    "u 2 <br/>\n",
    "h 2 <br/>\n",
    "r 2 <br/>\n",
    "t 2 <br/>"
   ]
  },
  {
   "cell_type": "code",
   "execution_count": 95,
   "metadata": {},
   "outputs": [
    {
     "name": "stdout",
     "output_type": "stream",
     "text": [
      "('e', 3)\n",
      "('o', 3)\n",
      "('t', 2)\n",
      "('h', 2)\n",
      "('u', 2)\n",
      "('r', 2)\n"
     ]
    }
   ],
   "source": [
    "def get_repeated_char_count(word):\n",
    "    count_dict = {}\n",
    "    for char in word:\n",
    "        count_dict[char] = count_dict[char]+1 if char in count_dict else 1\n",
    "    return list(sorted([(k,v) for k,v in count_dict.items() if v > 1], key=lambda x: -x[1]))\n",
    "\n",
    "occurance_data = get_repeated_char_count('thequickbrownjumpsoverthelazydog')\n",
    "\n",
    "print('\\n'.join([str(t) for t in occurance_data]))"
   ]
  },
  {
   "cell_type": "markdown",
   "metadata": {},
   "source": [
    "<h3>Q12. Write the Python program to print the square and cube symbol in the area of a rectangle and volume of a cylinder?</h3> <br/>\n",
    "Sample output- <br/> \n",
    "The area of the rectangle is 1256.66$cm^2$ <br/>\n",
    "The volume of the cylinder is 1254.725$cm^3$<br/>"
   ]
  },
  {
   "cell_type": "code",
   "execution_count": 3,
   "metadata": {},
   "outputs": [
    {
     "name": "stdout",
     "output_type": "stream",
     "text": [
      "The area of rectange is 1256.66cm²\n",
      "The volume of cylinder is 1254.725cm³\n"
     ]
    }
   ],
   "source": [
    "print('The area of rectange is {0:.{1}f}cm\\u00b2'.format(1256.66, 2))\n",
    "\n",
    "print('The volume of cylinder is {0:.{1}f}cm\\u00b3'.format(1254.725, 3))"
   ]
  },
  {
   "cell_type": "markdown",
   "metadata": {},
   "source": [
    "<h3>Q13. Write the Python program to check if a string contains all letters of the alphabet?</h3>"
   ]
  },
  {
   "cell_type": "code",
   "execution_count": 21,
   "metadata": {},
   "outputs": [
    {
     "name": "stdout",
     "output_type": "stream",
     "text": [
      "True\n",
      "False\n"
     ]
    }
   ],
   "source": [
    "import string\n",
    "all_alpha_dict = {char:1 for char in list(string.ascii_lowercase)}\n",
    "\n",
    "def check_string_for_all_aplha(input):\n",
    "    count = 0\n",
    "    for c in input:\n",
    "        if c.lower() in all_alpha_dict:\n",
    "            count +=1\n",
    "    return True if count ==26 else False\n",
    "\n",
    "\n",
    "print(check_string_for_all_aplha('ABCDEFGHIJKLMNOPQRSTUVWXYZ'))\n",
    "print(check_string_for_all_aplha('shashi'))"
   ]
  },
  {
   "cell_type": "markdown",
   "metadata": {},
   "source": [
    "<h3>Q14. Write the Python program to find the second most repeated word in a given string?</h3>"
   ]
  },
  {
   "cell_type": "code",
   "execution_count": 43,
   "metadata": {},
   "outputs": [
    {
     "data": {
      "text/plain": [
       "['learning']"
      ]
     },
     "execution_count": 43,
     "metadata": {},
     "output_type": "execute_result"
    }
   ],
   "source": [
    "def create_word_occurance_dict(para):\n",
    "    occurance_dict = {}\n",
    "    for word in para.split(' '):\n",
    "        if word in occurance_dict:\n",
    "            occurance_dict[word] = occurance_dict[word]+1\n",
    "        else:\n",
    "            occurance_dict[word] = 1\n",
    "    return occurance_dict\n",
    "\n",
    "def find_most_repeated_word(word_occurance_dict, rank):\n",
    "    highest_frequency = 0\n",
    "    for key, value in word_occurance_dict.items():\n",
    "        if value > highest_frequency:\n",
    "            highest_frequency = value\n",
    "            \n",
    "    item_bucket = [None]*(highest_frequency+1)\n",
    "    \n",
    "    for key, value in word_occurance_dict.items():\n",
    "        item_bucket[value] = [key] if item_bucket[value] is None else item_bucket[value]+[key]\n",
    "        \n",
    "    output = None\n",
    "    for ele in item_bucket[::-1]:\n",
    "        if ele is not None and rank>0:\n",
    "            output = ele\n",
    "            rank -=1\n",
    "    return output\n",
    "    \n",
    "    \n",
    "word_occurance_dict = create_word_occurance_dict('ML algo key model learning model learning statistical model')\n",
    "\n",
    "\n",
    "find_most_repeated_word(word_occurance_dict, rank=2)"
   ]
  },
  {
   "cell_type": "code",
   "execution_count": 82,
   "metadata": {},
   "outputs": [
    {
     "name": "stdout",
     "output_type": "stream",
     "text": [
      "[(3, 'S'), (4, 'O'), (8, 'U'), (9, 'S')]\n"
     ]
    },
    {
     "data": {
      "text/plain": [
       "''"
      ]
     },
     "execution_count": 82,
     "metadata": {},
     "output_type": "execute_result"
    }
   ],
   "source": [
    "import collections\n",
    "\n",
    "def min_window(given_str, pattern):\n",
    "    result_char, required = collections.Counter(pattern), len(pattern)\n",
    "    \n",
    "    filtered_char = []\n",
    "    for i, ch in enumerate(given_str):\n",
    "        if ch in result_char:\n",
    "            filtered_char.append((i, ch))\n",
    "            \n",
    "    print(filtered_char)\n",
    "    \n",
    "    l, r = 0, 0\n",
    "    formed = 0\n",
    "    window_counts = {}\n",
    "\n",
    "    ans = float(\"inf\"), None, None\n",
    "    \n",
    "    while r < len(filtered_char):\n",
    "        character = filtered_char[r][1]\n",
    "        window_counts[character] = window_counts.get(character,0)+1\n",
    "        \n",
    "        if window_counts[character]==result_char[character]:\n",
    "            formed +=1\n",
    "            \n",
    "        while l <= r and formed == required:\n",
    "            character = filtered_char[l][1]\n",
    "            \n",
    "            end = filtered_char[r][0]\n",
    "            start = filtered_char[l][0]\n",
    "            \n",
    "            if end - start + 1 < ans[0]:\n",
    "                ans = (end - start + 1, start, end)\n",
    "                \n",
    "            window_counts[character] -= 1\n",
    "            \n",
    "            if window_counts[character] < result_char[character]:\n",
    "                formed -= 1\n",
    "            l += 1\n",
    "        r +=1\n",
    "    return \"\" if ans[0] == float(\"inf\") else pattern[ans[1] : ans[2] + 1]\n",
    "        \n",
    "min_window('PRWSOERIUSFK','OSU')"
   ]
  },
  {
   "cell_type": "code",
   "execution_count": 78,
   "metadata": {},
   "outputs": [
    {
     "data": {
      "text/plain": [
       "float"
      ]
     },
     "execution_count": 78,
     "metadata": {},
     "output_type": "execute_result"
    }
   ],
   "source": [
    "type(float('inf'))"
   ]
  }
 ],
 "metadata": {
  "kernelspec": {
   "display_name": "Python 3",
   "language": "python",
   "name": "python3"
  },
  "language_info": {
   "codemirror_mode": {
    "name": "ipython",
    "version": 3
   },
   "file_extension": ".py",
   "mimetype": "text/x-python",
   "name": "python",
   "nbconvert_exporter": "python",
   "pygments_lexer": "ipython3",
   "version": "3.7.5"
  }
 },
 "nbformat": 4,
 "nbformat_minor": 2
}
