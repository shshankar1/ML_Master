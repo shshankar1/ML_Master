{
 "cells": [
  {
   "cell_type": "markdown",
   "metadata": {},
   "source": [
    "<h3>Q1. Write a Python program to get the string from the given string where all the occurrence of its first char has been changed to '\\$,' except first char itself?</h3><br/> \n",
    "Sample String: 'prospect' <br/>\n",
    "Expected Result : 'pros$ect'"
   ]
  },
  {
   "cell_type": "code",
   "execution_count": 4,
   "metadata": {},
   "outputs": [],
   "source": [
    "def replace_all_except_first(input, replacement):\n",
    "    reference = input[0]\n",
    "    input = input.replace(reference, replacement)\n",
    "    output = reference + input[1:]\n",
    "    return output            "
   ]
  },
  {
   "cell_type": "code",
   "execution_count": 5,
   "metadata": {},
   "outputs": [
    {
     "name": "stdout",
     "output_type": "stream",
     "text": [
      "pros$ect\n"
     ]
    }
   ],
   "source": [
    "print(replace_all_except_first('prospect', '$'))"
   ]
  },
  {
   "cell_type": "markdown",
   "metadata": {},
   "source": [
    "<h3>Q2. Write a Python program to get the single string from the two given strings, and separated by the space and swap the first two characters of each string?</h3><br/> \n",
    "Sample String : 'abc', 'xyz'.  <br/>\n",
    "Expected Result: 'xyc abz'"
   ]
  },
  {
   "cell_type": "code",
   "execution_count": 8,
   "metadata": {},
   "outputs": [],
   "source": [
    "def swap_char_n_concat(word_1, word_2):\n",
    "    word_1_temp = word_2[:2]+word_1[2:]\n",
    "    word_2_temp = word_1[:2]+word_2[2:]\n",
    "    return word_1_temp + word_2_temp"
   ]
  },
  {
   "cell_type": "code",
   "execution_count": 9,
   "metadata": {},
   "outputs": [
    {
     "name": "stdout",
     "output_type": "stream",
     "text": [
      "abzxyc\n"
     ]
    }
   ],
   "source": [
    "print(swap_char_n_concat('xyz', 'abc'))"
   ]
  },
  {
   "cell_type": "markdown",
   "metadata": {},
   "source": [
    "<h3>Q3. Write the Python program to add 'ing' at the end of the given string (length of the string should be at least 3). If given string already ends with 'ing,' then add 'ly' instead. If string length of the given string is less than 3, leave it unchanged?</h3><br/>\n",
    "Sample string: ' abc ' <br/>\n",
    "Expected result: ' abcing ' <br/>\n",
    "Sample string: ' string ' <br/>\n",
    "Expected result: ' stringly '<br/>"
   ]
  },
  {
   "cell_type": "code",
   "execution_count": 23,
   "metadata": {},
   "outputs": [],
   "source": [
    "def transform_word(word):\n",
    "    transform = word\n",
    "    if len(word)>=3:\n",
    "        if word.endswith('ing'):\n",
    "            transform = word +'ly'\n",
    "        else:\n",
    "            transform = word+'ing'\n",
    "    return transform"
   ]
  },
  {
   "cell_type": "code",
   "execution_count": 26,
   "metadata": {},
   "outputs": [
    {
     "name": "stdout",
     "output_type": "stream",
     "text": [
      "abcing\n",
      "stringly\n",
      "sh\n"
     ]
    }
   ],
   "source": [
    "print(transform_word('abc'))\n",
    "print(transform_word('string'))\n",
    "print(transform_word('sh'))"
   ]
  },
  {
   "cell_type": "markdown",
   "metadata": {},
   "source": [
    "<h3>Q4. Write the Python program to find the first appearance of the substring 'not' and 'poor' from the given string, if 'not' follows the 'poor', replace the whole 'not'...' poor' substring with 'good'.Return the resulting string. </h3><br/>\n",
    "Sample string: 'The lyrics are not that poor!' <br/>\n",
    "'The lyrics are poor!'<br/>\n",
    "Expected Result: 'The lyrics are good!' <br/>\n",
    "'The lyrics are poor!'<br/>"
   ]
  },
  {
   "cell_type": "code",
   "execution_count": 35,
   "metadata": {},
   "outputs": [
    {
     "name": "stdout",
     "output_type": "stream",
     "text": [
      "The lyrics are poor!\n",
      "The lyrics are good!\n"
     ]
    }
   ],
   "source": [
    "def get_assertive_affirmative(sentence):\n",
    "    output = sentence\n",
    "    not_index = sentence.find('not')\n",
    "    poor_index = sentence.find('poor')\n",
    "    \n",
    "    if not_index <= poor_index and not_index != -1 and poor_index != -1:\n",
    "        output = sentence[:not_index]+ 'good' + sentence[poor_index+len('poor'):]\n",
    "    return output\n",
    "        \n",
    "    \n",
    "print(get_assertive_affirmative('The lyrics are poor!'))\n",
    "print(get_assertive_affirmative('The lyrics are not that poor!'))"
   ]
  },
  {
   "cell_type": "markdown",
   "metadata": {},
   "source": [
    "<h3>Q5. Write the Python program to remove the characters which have odd index values of a given string.</h3>"
   ]
  },
  {
   "cell_type": "code",
   "execution_count": 48,
   "metadata": {},
   "outputs": [
    {
     "name": "stdout",
     "output_type": "stream",
     "text": [
      "tetet\n"
     ]
    }
   ],
   "source": [
    "remove_odd_place_holder = lambda x: ''.join([val for index, val in enumerate(x) if index %2 ==0])\n",
    "\n",
    "print(remove_odd_place_holder('treatment'))"
   ]
  },
  {
   "cell_type": "code",
   "execution_count": null,
   "metadata": {},
   "outputs": [],
   "source": []
  }
 ],
 "metadata": {
  "kernelspec": {
   "display_name": "Python 3",
   "language": "python",
   "name": "python3"
  },
  "language_info": {
   "codemirror_mode": {
    "name": "ipython",
    "version": 3
   },
   "file_extension": ".py",
   "mimetype": "text/x-python",
   "name": "python",
   "nbconvert_exporter": "python",
   "pygments_lexer": "ipython3",
   "version": "3.7.5"
  }
 },
 "nbformat": 4,
 "nbformat_minor": 2
}
