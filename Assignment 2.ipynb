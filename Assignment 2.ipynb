{
 "cells": [
  {
   "cell_type": "code",
   "execution_count": 1,
   "metadata": {},
   "outputs": [],
   "source": [
    "%config IPCompleter.greedy=True"
   ]
  },
  {
   "cell_type": "markdown",
   "metadata": {},
   "source": [
    "#### 1.1\n",
    "#### Write a Python Program to implement your own myreduce() function which works exactly like\n",
    "#### Python's built-in function reduce()"
   ]
  },
  {
   "cell_type": "code",
   "execution_count": 2,
   "metadata": {},
   "outputs": [],
   "source": [
    "def myreduce(func, data):\n",
    "    result = 0\n",
    "    if len(data)>0:\n",
    "        result = data[0]\n",
    "        for elem in data[1:]:\n",
    "            result = func(result, elem)\n",
    "    return result"
   ]
  },
  {
   "cell_type": "code",
   "execution_count": 3,
   "metadata": {},
   "outputs": [
    {
     "name": "stdout",
     "output_type": "stream",
     "text": [
      "120\n",
      "15\n"
     ]
    }
   ],
   "source": [
    "mult_res = myreduce(lambda x,y: x*y, [1,2,3,4,5])\n",
    "sum_res = myreduce(lambda x,y: x+y, [1,2,3,4,5])\n",
    "\n",
    "print(mult_res)\n",
    "print(sum_res)"
   ]
  },
  {
   "cell_type": "markdown",
   "metadata": {},
   "source": [
    "#### 1.2\n",
    "#### Write a Python program to implement your own myfilter() function which works exactly like\n",
    "#### Python's built-in function filter()"
   ]
  },
  {
   "cell_type": "code",
   "execution_count": 4,
   "metadata": {},
   "outputs": [],
   "source": [
    "def myfilter(func, data):\n",
    "    filtered_data = []\n",
    "    for elem in data:\n",
    "        if func(elem) is True:\n",
    "            filtered_data.append(elem)\n",
    "    return filtered_data"
   ]
  },
  {
   "cell_type": "code",
   "execution_count": 5,
   "metadata": {},
   "outputs": [
    {
     "name": "stdout",
     "output_type": "stream",
     "text": [
      "[23, 28, 46, 47]\n"
     ]
    }
   ],
   "source": [
    "filtered_data = myfilter(lambda x: True if x>=18 else False, [23,15,28,46,2,9,47])\n",
    "print(filtered_data)"
   ]
  },
  {
   "cell_type": "markdown",
   "metadata": {},
   "source": [
    "#### 2.\n",
    "####  Implement List comprehensions to produce the following lists.\n",
    "####  Write List comprehensions to produce the following Lists\n",
    "####  ['A', 'C', 'A', 'D', 'G', 'I', ’L’, ‘ D’]\n",
    "####  ['x', 'xx', 'xxx', 'xxxx', 'y', 'yy', 'yyy', 'yyyy', 'z', 'zz', 'zzz', 'zzzz']\n",
    "#### ['x', 'y', 'z', 'xx', 'yy', 'zz', 'xx', 'yy', 'zz', 'xxxx', 'yyyy', 'zzzz']\n",
    "#### [[2], [3], [4], [3], [4], [5], [4], [5], [6]]\n",
    "#### [[2, 3, 4, 5], [3, 4, 5, 6], [4, 5, 6, 7], [5, 6, 7, 8]]\n",
    "#### [(1, 1), (2, 1), (3, 1), (1, 2), (2, 2), (3, 2), (1, 3), (2, 3), (3, 3)]"
   ]
  },
  {
   "cell_type": "code",
   "execution_count": 6,
   "metadata": {},
   "outputs": [
    {
     "name": "stdout",
     "output_type": "stream",
     "text": [
      "['A', 'C', 'A', 'D', 'G', 'I', 'L', 'D']\n",
      "['x', 'xx', 'xxx', 'xxxx', 'y', 'yy', 'yyy', 'yyyy', 'z', 'zz', 'zzz', 'zzzz']\n",
      "['x', 'y', 'z', 'xx', 'yy', 'zz', 'xxx', 'yyy', 'zzz', 'xxxx', 'yyyy', 'zzzz']\n",
      "[[2], [3], [4], [3], [4], [5], [4], [5], [6]]\n",
      "[[2, 3, 4, 5], [3, 4, 5, 6], [4, 5, 6, 7], [5, 6, 7, 8]]\n",
      "[(1, 1), (2, 1), (3, 1), (1, 2), (2, 2), (3, 2), (1, 3), (2, 3), (3, 3)]\n"
     ]
    }
   ],
   "source": [
    "char_list = [c for c in 'ACADGILD']\n",
    "print(char_list)\n",
    "\n",
    "char_freq_list = [c*num for c in 'xyz' for num in range(1,5)]\n",
    "print(char_freq_list)\n",
    "\n",
    "num_char_freq_list = [c*num for num in range(1,5) for c in 'xyz']\n",
    "print(num_char_freq_list)\n",
    "\n",
    "t = range(2,7)\n",
    "print([[x] for x in sum([[t[i], t[i+1], t[i+2]] for i in range(0,len(t)//2+1)], [])])\n",
    "\n",
    "t = range(2,9)\n",
    "print([[t[i], t[i+1], t[i+2], t[i+3]] for i in range(0, len(t)//2+1)])\n",
    "\n",
    "print([(i,j) for j in range(1,4) for i in range(1,4)])"
   ]
  },
  {
   "cell_type": "markdown",
   "metadata": {},
   "source": [
    "#### 3.\n",
    "#### Implement a function longestWord() that takes a list of words and returns the longest one."
   ]
  },
  {
   "cell_type": "code",
   "execution_count": 7,
   "metadata": {},
   "outputs": [],
   "source": [
    "def longestWord(word_list):\n",
    "    longest_word = None\n",
    "    if len(word_list)>0:\n",
    "        longest_word = word_list[0]\n",
    "        for word in word_list[1:]:\n",
    "            if len(word) > len(longest_word):\n",
    "                longest_word = word\n",
    "    return longest_word"
   ]
  },
  {
   "cell_type": "code",
   "execution_count": 8,
   "metadata": {},
   "outputs": [
    {
     "name": "stdout",
     "output_type": "stream",
     "text": [
      "Homogenous\n"
     ]
    }
   ],
   "source": [
    "longest_word = longestWord(['Cat', 'Homogenous', 'Treat', 'Extract'])\n",
    "print(longest_word)"
   ]
  },
  {
   "cell_type": "markdown",
   "metadata": {},
   "source": [
    "#### 1.1\n",
    "#### Write a Python Program(with class concepts) to find the area of the triangle using the below formula.\n",
    "$ area = (s*(s-a)*(s-b)*(s-c)) ** 0.5$ \n",
    "#### Function to take the length of the sides of triangle from user should be defined in the parent class and function to calculate the area should be defined in subclass."
   ]
  },
  {
   "cell_type": "code",
   "execution_count": 9,
   "metadata": {},
   "outputs": [],
   "source": [
    "from math import sqrt\n",
    "\n",
    "class BaseTriangle():\n",
    "    def __init__(self):\n",
    "        self.a = None\n",
    "        self.b = None\n",
    "        self.c = None\n",
    "        \n",
    "    def input_side_lengths(self):\n",
    "        self.a = float(input('Enter value for a: '))\n",
    "        self.b = float(input('Enter value for b: '))\n",
    "        self.c = float(input('Enter value for c: '))\n",
    "        \n",
    "        \n",
    "class Triangle(BaseTriangle):\n",
    "    def __init__(self):\n",
    "        super().__init__()\n",
    "        \n",
    "    def calc_area(self):\n",
    "        s = (self.a+self.b+self.c)/2\n",
    "        area = sqrt((s-self.a)*(s-self.b)*(s-self.c))\n",
    "        return area"
   ]
  },
  {
   "cell_type": "code",
   "execution_count": 10,
   "metadata": {},
   "outputs": [
    {
     "name": "stdout",
     "output_type": "stream",
     "text": [
      "Enter value for a: 3\n",
      "Enter value for b: 4\n",
      "Enter value for c: 5\n",
      "Area: 2.449490\n"
     ]
    }
   ],
   "source": [
    "t = Triangle()\n",
    "t.input_side_lengths()\n",
    "area= t.calc_area()\n",
    "print('Area: %f' %area)"
   ]
  },
  {
   "cell_type": "markdown",
   "metadata": {},
   "source": [
    "#### 1.2\n",
    "####  Write a function filter_long_words() that takes a list of words and an integer n and returns the list of words that are longer than n."
   ]
  },
  {
   "cell_type": "code",
   "execution_count": 11,
   "metadata": {},
   "outputs": [],
   "source": [
    "def filter_long_words(words, min_len):\n",
    "    filtered_words = []\n",
    "    for word in words:\n",
    "        if len(word) > min_len:\n",
    "            filtered_words.append(word)\n",
    "    return filtered_words"
   ]
  },
  {
   "cell_type": "code",
   "execution_count": 12,
   "metadata": {},
   "outputs": [
    {
     "name": "stdout",
     "output_type": "stream",
     "text": [
      "['Constitution']\n"
     ]
    }
   ],
   "source": [
    "filtered_words = filter_long_words(['Threat', 'Constitution', 'Class'], 7)\n",
    "print(filtered_words)"
   ]
  },
  {
   "cell_type": "markdown",
   "metadata": {},
   "source": [
    "#### 2.1\n",
    "#### Write a Python program using function concept that maps list of words into a list of integers\n",
    "#### representing the lengths of the corresponding words .\n",
    "#### Hint: If a list [ ab,cde,erty] is passed on to the python function output should come as [2,3,4]\n",
    "#### Here 2,3 and 4 are the lengths of the words in the list."
   ]
  },
  {
   "cell_type": "code",
   "execution_count": 13,
   "metadata": {},
   "outputs": [
    {
     "name": "stdout",
     "output_type": "stream",
     "text": [
      "[6, 7]\n"
     ]
    }
   ],
   "source": [
    "def derive_word_length(words):\n",
    "    return list(map(lambda x: len(x), words))\n",
    "\n",
    "\n",
    "word_lens = derive_word_length(['Shashi', 'Shankar'])\n",
    "print(word_lens)"
   ]
  },
  {
   "cell_type": "markdown",
   "metadata": {},
   "source": [
    "#### 2.2\n",
    "#### Write a Python function which takes a character (i.e. a string of length 1) and returns True if it is a vowel, False otherwise."
   ]
  },
  {
   "cell_type": "code",
   "execution_count": 14,
   "metadata": {},
   "outputs": [
    {
     "name": "stdout",
     "output_type": "stream",
     "text": [
      "True\n",
      "False\n"
     ]
    }
   ],
   "source": [
    "vowel_check = lambda x : True if x.lower() in ['a', 'e', 'i', 'o', 'u'] else False\n",
    "\n",
    "print(vowel_check('A'))\n",
    "print(vowel_check('T'))"
   ]
  }
 ],
 "metadata": {
  "kernelspec": {
   "display_name": "Python 3",
   "language": "python",
   "name": "python3"
  },
  "language_info": {
   "codemirror_mode": {
    "name": "ipython",
    "version": 3
   },
   "file_extension": ".py",
   "mimetype": "text/x-python",
   "name": "python",
   "nbconvert_exporter": "python",
   "pygments_lexer": "ipython3",
   "version": "3.7.5"
  }
 },
 "nbformat": 4,
 "nbformat_minor": 2
}
