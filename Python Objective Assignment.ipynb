{
 "cells": [
  {
   "cell_type": "markdown",
   "metadata": {},
   "source": [
    "<h3>Q1. How can we create an iterator object from a list? </h3><br/>\n",
    "a) Bypassing the given list to the iter() function <br/>\n",
    "b) By using a for a loop.<br/>\n",
    "c) By using a while loop.<br/>\n",
    "d) You cannot create an iterable object<br/>"
   ]
  },
  {
   "cell_type": "markdown",
   "metadata": {},
   "source": [
    "<b>Answer: Option (a)</b>"
   ]
  },
  {
   "cell_type": "markdown",
   "metadata": {},
   "source": [
    "<h3>Q2. If the function contains at least of one “yield” statement, then it becomes ______ </h3><br/>\n",
    "Choose one<br/>\n",
    "a) An iterable<br/>\n",
    "b) a generator function<br/>\n",
    "c) an anonymous function<br/>\n",
    "d) None of the above"
   ]
  },
  {
   "cell_type": "markdown",
   "metadata": {},
   "source": [
    "<b>Answer: Option (b)</b>"
   ]
  },
  {
   "cell_type": "markdown",
   "metadata": {},
   "source": [
    "<h3>Q3. What is the output of the code?</h3><br/>\n",
    "mylist = [1, 3, 6, 10] <br/>\n",
    "a = (x**2 for x in mylist) <br/>\n",
    "print(next(a), next(a))<br/>\n",
    "\n",
    "a) 1 3 <br/>\n",
    "b) 1 9<br/>\n",
    "c) 1 9 36 100<br/>\n",
    "d) 1<br/>"
   ]
  },
  {
   "cell_type": "markdown",
   "metadata": {},
   "source": [
    "<b>Answer: Option (b)</b>"
   ]
  },
  {
   "cell_type": "markdown",
   "metadata": {},
   "source": [
    "<h3>Q4. What are the criteria that must be met to create closure in Python?</h3><br/>\n",
    "a) The program Must have the function inside the function.<br/>\n",
    "b) The nested function must refer to the value defined in the enclosing function.<br/>\n",
    "c) The enclosing function must return the nested<br/>\n",
    "d) All of the above.<br/>"
   ]
  },
  {
   "cell_type": "markdown",
   "metadata": {},
   "source": [
    "<b> Answer: Option (d)</b>"
   ]
  },
  {
   "cell_type": "markdown",
   "metadata": {},
   "source": [
    "<h3>Q5. What is the output of the code?</h3>\n",
    "<pre>\n",
    "def Foo(n):\n",
    "    def multiplier(x): \n",
    "        return x * n \n",
    "    return multiplier \n",
    "\n",
    "a = Foo(5)\n",
    "b = Foo(5)\n",
    "print(a(b(2)))\n",
    "</pre>"
   ]
  },
  {
   "cell_type": "markdown",
   "metadata": {},
   "source": [
    "a) 25. <br/>\n",
    "b) 100 <br/>\n",
    "c) 10 <br/>\n",
    "d) 50 <br/>"
   ]
  },
  {
   "cell_type": "markdown",
   "metadata": {},
   "source": [
    "<b>Answer: Option (d)</b>"
   ]
  },
  {
   "cell_type": "markdown",
   "metadata": {},
   "source": [
    "<h3>Q6. What is the output of the code? </h3>\n",
    "<pre>\n",
    "def make_pretty(func): \n",
    "    def inner():\n",
    "        print(\"I got decorated\") \n",
    "        func() \n",
    "    return inner \n",
    "\n",
    "def ordinary(): \n",
    "    print(\"I am ordinary\") \n",
    "    \n",
    "pretty = make_pretty(ordinary)    \n",
    "pretty()\n",
    "</pre>"
   ]
  },
  {
   "cell_type": "markdown",
   "metadata": {},
   "source": [
    "a) I got decorated <br/>\n",
    "b) I am pretty <br/>\n",
    "c) I got decorated <br/>\n",
    "   I am ordinary <br/>\n",
    "d) I am ordinary <br/>\n",
    "   I got decorated <br/>"
   ]
  },
  {
   "cell_type": "markdown",
   "metadata": {},
   "source": [
    "<b> Answer: Option (c)</b>"
   ]
  },
  {
   "cell_type": "markdown",
   "metadata": {},
   "source": [
    "<h3>Q7: What is the more pythonic way to use getters and setters?</h3><br/>\n",
    "a) Decorators<br/>\n",
    "b) Generators.<br/>\n",
    "c) Iterators<br/>\n",
    "d) @property"
   ]
  },
  {
   "cell_type": "markdown",
   "metadata": {},
   "source": [
    "<b>Answer: Option (d)</b>"
   ]
  },
  {
   "cell_type": "markdown",
   "metadata": {},
   "source": [
    "<h3>Q8. In Python, there is a built-in function property() that returns a property object. The property object has which of the methods?</h3> <br/>\n",
    "a) getter() and setter() <br/>\n",
    "b) getter(), setter() and delete() <br/>\n",
    "c) getter() and delete()<br/>\n",
    "d) setter() and delete()<br/>"
   ]
  },
  {
   "cell_type": "markdown",
   "metadata": {},
   "source": [
    "<b>Answer: Option (b)</b>"
   ]
  },
  {
   "cell_type": "markdown",
   "metadata": {},
   "source": [
    "<h3>Q9. Which of the following statement is true? </h3> <br/>\n",
    "a) You cannot chain multiple decorators in Python. <br/>\n",
    "b) Decorators don’t work with functions that take parameters. <br/>\n",
    "c) The @ symbol doesn’t have any use while using decorators. <br/>\n",
    "d) None of the above<br/>"
   ]
  },
  {
   "cell_type": "markdown",
   "metadata": {},
   "source": [
    "<b>Answer: Option (b)</b>"
   ]
  },
  {
   "cell_type": "markdown",
   "metadata": {},
   "source": [
    "<h3>Q10. For the following codes, which of the following statements is true?</h3>\n",
    "\n",
    "<pre>\n",
    "def printHello(): \n",
    "    print(\"Hello\") \n",
    "a = printHello()\n",
    "</pre>"
   ]
  },
  {
   "cell_type": "markdown",
   "metadata": {},
   "source": [
    "a) Print Hello() is a function, and a is a variable. None of them are objects.<br/>\n",
    "b) Both printHello() and the reference to the same object.<br/>\n",
    "c) Print Hello() and the reference to different objects.<br/>\n",
    "d) Syntax error! You cannot assign function<br/>"
   ]
  },
  {
   "cell_type": "markdown",
   "metadata": {},
   "source": [
    "<b>Answer: Option (c)</b>"
   ]
  },
  {
   "cell_type": "markdown",
   "metadata": {},
   "source": [
    "<h3>Q11. What is the output of the program?</h3>\n",
    "\n",
    "<pre>\n",
    "def outerFunction(): \n",
    "    global a \n",
    "    a = 20 \n",
    "    def innerFunction(): \n",
    "        global a \n",
    "        a = 30 \n",
    "        print('a =', a) \n",
    "a = 10 \n",
    "outerFunction()\n",
    "print('a =', a)\n",
    "</pre>"
   ]
  },
  {
   "cell_type": "markdown",
   "metadata": {},
   "source": [
    "a) a = 10 a = 30 <br/>\n",
    "b) a = 10<br/>\n",
    "c) a = 2 <br/>\n",
    "d) a = 30<br/>"
   ]
  },
  {
   "cell_type": "markdown",
   "metadata": {},
   "source": [
    "<b>Answer: Option (None of these)</b>"
   ]
  },
  {
   "cell_type": "markdown",
   "metadata": {},
   "source": [
    "<h3>Q12. Which of the following statements is true?</h3><br/>\n",
    "a) A class is a blueprint for the object.<br/>\n",
    "b) You can only make the single object from the given class<br/>\n",
    "c) Both statements are true.<br/>\n",
    "d) Neither statement is true.<br/>"
   ]
  },
  {
   "cell_type": "markdown",
   "metadata": {},
   "source": [
    "<b>Answer: Option (a)</b>"
   ]
  },
  {
   "cell_type": "markdown",
   "metadata": {},
   "source": [
    "<h3>Q13. What is the output of the code?</h3>\n",
    "\n",
    "<pre>\n",
    "class Foo: \n",
    "    def printLine(self, line='Python'): \n",
    "        print(line) \n",
    "         \n",
    "o1 = Foo() \n",
    "o1.printLine('Java')\n",
    "</pre>"
   ]
  },
  {
   "cell_type": "markdown",
   "metadata": {},
   "source": [
    "a) Python<br/>\n",
    "b) Line<br/>\n",
    "c) Java<br/>\n",
    "d) Java <br/>  Python"
   ]
  },
  {
   "cell_type": "markdown",
   "metadata": {},
   "source": [
    "<b>Answer: Option (c)</b>"
   ]
  },
  {
   "cell_type": "markdown",
   "metadata": {},
   "source": [
    "<h3>Q14. What is the function of the __init__() function in Python? </h3><br/>\n",
    "a) Initialises the class for use.<br/>\n",
    "b) This function is called, when the new object is instantiated<br/>\n",
    "c) Initialises all the data attributes to zero when called<br/>\n",
    "d) None of the above.<br/>"
   ]
  },
  {
   "cell_type": "markdown",
   "metadata": {},
   "source": [
    "<b>Answer: Option(b)</b>"
   ]
  },
  {
   "cell_type": "markdown",
   "metadata": {},
   "source": [
    "<h3>Q15. What is the output of the code?</h3>\n",
    "\n",
    "<pre>\n",
    "class Point: \n",
    "    def __init__(self, x = 0, y = 0): \n",
    "        self.x = x+1 \n",
    "        self.y = y+1 \n",
    "         \n",
    "p1 = Point() \n",
    "print(p1.x, p1.y)\n",
    "</pre>"
   ]
  },
  {
   "cell_type": "markdown",
   "metadata": {},
   "source": [
    "a) 0 0 <br/>\n",
    "b) 1 1<br/>\n",
    "c) None None<br/>\n",
    "d) x y<br/>"
   ]
  },
  {
   "cell_type": "markdown",
   "metadata": {},
   "source": [
    "<b>Answer: Option (b)</b>"
   ]
  },
  {
   "cell_type": "markdown",
   "metadata": {},
   "source": [
    "<h3>Q16. Which of the following code used the inheritance feature?</h3><br/>\n",
    "<pre>\n",
    "a) Class Foo: \n",
    "       Pass \n",
    "b) class Foo(object): \n",
    "       pass \n",
    "   class Hoo(object): \n",
    "       pass \n",
    "c) class Foo: \n",
    "       pass \n",
    "   class Hoo(Foo): \n",
    "       pass\n",
    "d) None of the above code.\n",
    "</pre>"
   ]
  },
  {
   "cell_type": "markdown",
   "metadata": {},
   "source": [
    "<b>Answer: Option (c)</b>"
   ]
  },
  {
   "cell_type": "markdown",
   "metadata": {},
   "source": [
    "<h3>Q17 If you a class is derived from two different classes, it’s called</h3><br/>\n",
    "a) Multilevel inheritance <br/>\n",
    "b) Multiple Inheritance<br/>\n",
    "c) Hierarchical Inheritance<br/>\n",
    "d) Python Inheritance<br/>"
   ]
  },
  {
   "cell_type": "markdown",
   "metadata": {},
   "source": [
    "<b>Answer: Option (b)</b>"
   ]
  },
  {
   "cell_type": "markdown",
   "metadata": {},
   "source": [
    "<h3>Q18. Which of the following statements is true?</h3><br/>\n",
    "a) In Python, the same operator may behave differently depends upon the operands.<br/>\n",
    "b) You can change the way operators which behave in Python.<br/>\n",
    "c) Special method __add()__ is called when + operator<br/>\n",
    "d) All of the above.<br/>"
   ]
  },
  {
   "cell_type": "markdown",
   "metadata": {},
   "source": [
    "<b>Answer: Option (d)</b>"
   ]
  },
  {
   "cell_type": "markdown",
   "metadata": {},
   "source": [
    "<h3>Q19. What is the output of the code?</h3>\n",
    "\n",
    "<pre>\n",
    "class Point: \n",
    "    def __init__(self, x = 0, y = 0): \n",
    "        self.x = x \n",
    "        self.y = y \n",
    "        \n",
    "    def __sub__(self, other): \n",
    "        x = self.x + other.x \n",
    "        y = self.y + other.y \n",
    "        return Point(x,y) \n",
    "\n",
    "p1 = Point(3, 4) \n",
    "p2 = Point(1, 2) \n",
    "result = p1-p2 \n",
    "print(result.x, result.y)\n",
    "</pre>"
   ]
  },
  {
   "cell_type": "markdown",
   "metadata": {},
   "source": [
    "a) 2 2<br/>\n",
    "b) 4 6<br/>\n",
    "c) 0 0<br/>\n",
    "d) 1 1<br/>"
   ]
  },
  {
   "cell_type": "markdown",
   "metadata": {},
   "source": [
    "<b>Answer: Option (b)</b>"
   ]
  },
  {
   "cell_type": "markdown",
   "metadata": {},
   "source": [
    "<h3>Q20. Opening a file in ‘a’ mode</h3><br/>\n",
    "a) opens a file for reading<br/>\n",
    "b) opens a file for writing<br/>\n",
    "c) opens the file for appending, at the end of file<br/>\n",
    "d) opens a file for exclusive creation"
   ]
  },
  {
   "cell_type": "markdown",
   "metadata": {},
   "source": [
    "<b>Answer: Option (c)</b>"
   ]
  },
  {
   "cell_type": "markdown",
   "metadata": {},
   "source": [
    "<h3>Q21. What does the following code do?</h3><br/> \n",
    "    f = open(\"test.txt\")<br/>\n",
    "a) Opens test.txt file for both reading and writing<br/>\n",
    "b) Opens test.txt file for reading only<br/>\n",
    "c) Opens test.txt file for writing only<br/>\n",
    "d) Opens test.txt file in god mode<br/>"
   ]
  },
  {
   "cell_type": "markdown",
   "metadata": {},
   "source": [
    "<b>Answer: Option (a)</b>"
   ]
  },
  {
   "cell_type": "markdown",
   "metadata": {},
   "source": [
    "<h3>Q22. Which of the codes closes files automatically if an exception occurs?</h3><br/>\n",
    "<pre>\n",
    "a) with open(\"test.txt\", encoding = 'utf-8') as f: \n",
    "       perform file operation\n",
    "b) try: \n",
    "    f = open(\"test.txt\",encoding = 'utf-8') \n",
    "    # perform file operations \n",
    "   finally: \n",
    "       close()\n",
    "c) None of the above\n",
    "d) Both of the above\n",
    "</pre>"
   ]
  },
  {
   "cell_type": "markdown",
   "metadata": {},
   "source": [
    "<b>Answer: Option (d)</b>"
   ]
  },
  {
   "cell_type": "markdown",
   "metadata": {},
   "source": [
    "<h3>Q23. For the following code,</h3><br/>\n",
    "<pre>\n",
    "f= open('test.txt', 'r', encoding = 'utf-8') \n",
    "f.read()\n",
    "</pre><br/>\n",
    "<h3>Which of the following statement is true</h3><br/>\n",
    "a) This program reads the content of the test.txt file.<br/>\n",
    "b) If test.txt contains a newline, read() will return the newline as ‘\\n’.<br/>\n",
    "c) You can pass an integer to the read() method<br/>\n",
    "d) All of the above.<br/>"
   ]
  },
  {
   "cell_type": "markdown",
   "metadata": {},
   "source": [
    "<b>Answer: Option (d)</b>"
   ]
  },
  {
   "cell_type": "markdown",
   "metadata": {},
   "source": [
    "<h3>Q24. What does the following code do? </h3><br/>\n",
    "os.listdir()<br/>\n",
    "a) Prints the current working directory.<br/>\n",
    "b) Prints the current working directory.<br/>\n",
    "c) Prints all the directories and files inside the given directory<br/>\n",
    "d) Make a new directory<br/>"
   ]
  },
  {
   "cell_type": "markdown",
   "metadata": {},
   "source": [
    "<b>Answer: List all files and directory under current working directory</b>"
   ]
  },
  {
   "cell_type": "markdown",
   "metadata": {},
   "source": [
    "<h3>Q25. Which of the following is correct?</h3> <br/>\n",
    "a) An exception is an error that occurs in the runtime.<br/>\n",
    "b) A syntax error is also an exception.<br/>\n",
    "c) An exception is used to exclude a block of code in python.<br/>\n",
    "d) All of the above.<br/>"
   ]
  },
  {
   "cell_type": "markdown",
   "metadata": {},
   "source": [
    "<b>Answer: Option (a)</b>"
   ]
  },
  {
   "cell_type": "markdown",
   "metadata": {},
   "source": [
    "<h3>Q26. What will happen if we try to open the file that doesn’t exist?</h3><br/>\n",
    "a) A new file is created.<br/>\n",
    "b) Nothing will happen.<br/>\n",
    "c) An exception is raised.<br/>\n",
    "d) None of the above<br/>"
   ]
  },
  {
   "cell_type": "markdown",
   "metadata": {},
   "source": [
    "<b>Answer: Option (c)</b>"
   ]
  },
  {
   "cell_type": "markdown",
   "metadata": {},
   "source": [
    "<h3>Q27. What is the output of the code?</h3><br/>\n",
    "<pre>\n",
    "number = 5.0 \n",
    "try: \n",
    "    r = 10/number \n",
    "    print(r) \n",
    "except: \n",
    "    print(\"Oops! Error occurred.\")\n",
    "</pre>\n",
    "a) Oops! Error occurred <br/>\n",
    "b) 2.0<br/>\n",
    "c) 2.0 Oops! Error occurred.<br/>\n",
    "d) None object<br/>"
   ]
  },
  {
   "cell_type": "markdown",
   "metadata": {},
   "source": [
    "<b>Answer: Option (b)</b>"
   ]
  },
  {
   "cell_type": "markdown",
   "metadata": {},
   "source": [
    "<h3>Q28. What does the following code do?</h3><br/>\n",
    "<pre>\n",
    "try: \n",
    "    # code that can raise an error \n",
    "    pass \n",
    "\n",
    "except (TypeError, ZeroDivisionError): \n",
    "    print(\"Two\")\n",
    "</pre>\n",
    "\n",
    "a) Prints Two if an exception occurs (doesn’t matter which exception).<br/>\n",
    "b) Prints Two if exception doesn’t occur.<br/>\n",
    "c) Prints Two if the TypeError or ZeroDivisionError exception occurs.<br/>\n",
    "d) Prints Two only if both TypeError and ZeroDivisionError exception occur.<br/>"
   ]
  },
  {
   "cell_type": "markdown",
   "metadata": {},
   "source": [
    "<b>Answer: Option (c)</b>"
   ]
  },
  {
   "cell_type": "markdown",
   "metadata": {},
   "source": [
    "<h3>Q29. Which of the following statement is true? </h3><br/>\n",
    "a) You cannot create custom exceptions in Python.<br/> \n",
    "b) You can create the user-defined exception by deriving a class from Exception class.<br/> \n",
    "c) You can create a user-defined exception by deriving a class from Error class. <br/>\n",
    "d) None of the above.<br/>"
   ]
  },
  {
   "cell_type": "markdown",
   "metadata": {},
   "source": [
    "<b>Answer: Option (b)</b>"
   ]
  },
  {
   "cell_type": "markdown",
   "metadata": {},
   "source": [
    "<h3>Q30. Which of the following statement is true?</h3><br/>\n",
    "a) Functions are used to create objects in Python. <br/>\n",
    "b) Functions make your program run faster. <br/>\n",
    "c) The function is a piece of code that can perform a specific task.<br/>\n",
    "d) All of the above<br/>"
   ]
  },
  {
   "cell_type": "markdown",
   "metadata": {},
   "source": [
    "<b>Answer: Option (c)</b>"
   ]
  },
  {
   "cell_type": "markdown",
   "metadata": {},
   "source": [
    "<h3>Q31. What is the output of the code?</h3><br/>\n",
    "<pre>\n",
    "def printLine(text): \n",
    "    print(text, 'is awesome.') \n",
    " \n",
    "printLine('Python')\n",
    "</pre>\n",
    "\n",
    "a) Python <br/>\n",
    "b) Python is awesome. <br/>\n",
    "c) Text is awesome.<br/>\n",
    "d) Is awesome.<br/>"
   ]
  },
  {
   "cell_type": "markdown",
   "metadata": {},
   "source": [
    "<b>Answer: Option (b)</b>"
   ]
  },
  {
   "cell_type": "markdown",
   "metadata": {},
   "source": [
    "<h3>Q32. If the return statement is not used inside the function, the function will return: </h3><br/>\n",
    "a) 0 <br/>\n",
    "b) None object <br/>\n",
    "c) an arbitrary integer <br/>\n",
    "d) Error! Functions in Python must have a return statement.<br/>"
   ]
  },
  {
   "cell_type": "markdown",
   "metadata": {},
   "source": [
    "<b>Answer: Option (b)</b>"
   ]
  },
  {
   "cell_type": "markdown",
   "metadata": {},
   "source": [
    "<h3>Q33. What is the output of the code?</h3>\n",
    "\n",
    "<pre>\n",
    "def greetPerson(*name): \n",
    "    print('Hello', name) \n",
    "\n",
    "greetPerson('Frodo', 'Sauron')\n",
    "</pre>\n",
    "\n",
    "a) Hello Frodo Hello Sauron <br/>\n",
    "b) Hello ('Frodo', 'Sauron') <br/>\n",
    "c) Hello Frodo <br/>\n",
    "d) Syntax Error! Great person() can take only one argument."
   ]
  },
  {
   "cell_type": "markdown",
   "metadata": {},
   "source": [
    "<b>Answer: Option (b)</b>"
   ]
  },
  {
   "cell_type": "markdown",
   "metadata": {},
   "source": [
    "<h3>Q34. What is a recursive function?</h3><br/>\n",
    "a) A function that calls all the functions in the program. <br/> \n",
    "b) A function that calls itself. <br/>\n",
    "c) A function that that calls all the functions in the program except itself.<br/>\n",
    "d) There is no such thing as a recursive function in Python.<br/>"
   ]
  },
  {
   "cell_type": "markdown",
   "metadata": {},
   "source": [
    "<b>Answer: Option (b)</b>"
   ]
  },
  {
   "cell_type": "markdown",
   "metadata": {},
   "source": [
    "<h3>Q35. What is the output of the program?</h3><br/>\n",
    "<pre>\n",
    "result = lambda x: x * x \n",
    "print(result(5))\n",
    "</pre>\n",
    "\n",
    "a) lambda x: x*x <br/>\n",
    "b) 10 <br/>\n",
    "c) 25 <br/>\n",
    "d) 5*5<br/>"
   ]
  },
  {
   "cell_type": "markdown",
   "metadata": {},
   "source": [
    "<b>Answer: Option (c)</b>"
   ]
  },
  {
   "cell_type": "markdown",
   "metadata": {},
   "source": [
    "<h3>Q36. What is the output of the program?</h3>\n",
    "<pre>\n",
    "def Foo(x):\n",
    "    if (x==1): \n",
    "        return 1 \n",
    "    else: \n",
    "        return x+Foo(x-1) \n",
    "\n",
    "print(Foo(4))\n",
    "</pre>\n",
    "\n",
    "a) 10 <br/>\n",
    "b) 24 <br/>\n",
    "c) 7 <br/>\n",
    "d) 1 <br/>"
   ]
  },
  {
   "cell_type": "markdown",
   "metadata": {},
   "source": [
    "<b>Answer: Option (a)</b>"
   ]
  },
  {
   "cell_type": "markdown",
   "metadata": {},
   "source": [
    "<h3>Q37. Suppose you need to print pi constant defined in the math module. Which of the following code can do this task?</h3><br/>\n",
    "a) print(math.pi) <br/>\n",
    "b) print(pi)<br/>\n",
    "c) from math import pi <br/>\n",
    "   print(pi) <br/>\n",
    "d)from math import pi <br/>\n",
    "  print(math.pi)<br/>\n",
    "   "
   ]
  },
  {
   "cell_type": "markdown",
   "metadata": {},
   "source": [
    "<b>Answer: Option(c)</b>"
   ]
  },
  {
   "cell_type": "markdown",
   "metadata": {},
   "source": [
    "<h3>Q38. Which operator is used in Python to import modules from the packages?</h3><br/>\n",
    "a). operator <br/>\n",
    "b) * operator <br/>\n",
    "c) -> symbol <br/>\n",
    "d) , operator<br/>"
   ]
  },
  {
   "cell_type": "markdown",
   "metadata": {},
   "source": [
    "<b>Answer: Option (a)</b>"
   ]
  },
  {
   "cell_type": "markdown",
   "metadata": {},
   "source": [
    "<h3>Q39. What is the output of the code?</h3><br/>\n",
    "\n",
    "<pre>\n",
    "numbers = [1, 3, 6] \n",
    "newNumbers = tuple(map(lambda x: x , numbers)) \n",
    "print(newNumbers)\n",
    "</pre>\n",
    "\n",
    "a) [1, 3, 6] <br/>\n",
    "b) (1, 3, 6) <br/>\n",
    "c) [2, 6, 12]<br/>\n",
    "d) (2, 6, 12)<br/>"
   ]
  },
  {
   "cell_type": "markdown",
   "metadata": {},
   "source": [
    "<b>Answer: Option (b)</b>"
   ]
  },
  {
   "cell_type": "markdown",
   "metadata": {},
   "source": [
    "<h3>Q40. What is the output of the code?</h3>\n",
    "<pre>\n",
    "if None:\n",
    "    print('hello')\n",
    "</pre>\n",
    "\n",
    "a) False <br/>\n",
    "b) Hello <br/>\n",
    "c) Nothing will be printed <br/>\n",
    "d) Syntax error<br/>"
   ]
  },
  {
   "cell_type": "markdown",
   "metadata": {},
   "source": [
    "<b>Answer: Option (c)</b>"
   ]
  },
  {
   "cell_type": "markdown",
   "metadata": {},
   "source": [
    "<h3>Q41. The if-elif-else executes only one block of code among several blocks.</h3>\n",
    "a) True. <br/>\n",
    "b) False <br/>\n",
    "c) It depends on the expression used.<br/>\n",
    "d) There is no elif statement in Python.<br/>"
   ]
  },
  {
   "cell_type": "markdown",
   "metadata": {},
   "source": [
    "<b>Answer: Option (a)</b>"
   ]
  },
  {
   "cell_type": "markdown",
   "metadata": {},
   "source": [
    "<h3>Q42. What is the output of the code?</h3>\n",
    "\n",
    "<pre>\n",
    "for i in [1, 0]: \n",
    "    print(i+1)\n",
    "\n",
    "\n",
    "a) 2\n",
    "   1 \n",
    "b) [2, 1]\n",
    "c) 2\n",
    "   0\n",
    "d) [2, 0]\n",
    "</pre>"
   ]
  },
  {
   "cell_type": "markdown",
   "metadata": {},
   "source": [
    "<b>Answer: Option (a)</b>"
   ]
  },
  {
   "cell_type": "markdown",
   "metadata": {},
   "source": [
    "<h3>Q43. In the Python, for and while loop can have the optional else statement?</h3> <br/>\n",
    "a) Only for loop can have the optional else statement <br/>\n",
    "b) Only while loop can have the optional else statement <br/>\n",
    "c) Both loops can have optional else statement<br/>\n",
    "d) Loops cannot have else statement in Python<br/>"
   ]
  },
  {
   "cell_type": "markdown",
   "metadata": {},
   "source": [
    "<b>Answer: Option (c)</b>"
   ]
  },
  {
   "cell_type": "markdown",
   "metadata": {},
   "source": [
    "<h3>Q44. What is the output of the code?</h3>\n",
    "<pre>\n",
    "i = sum = 0 \n",
    "\n",
    "while i <= 4: \n",
    "    sum += i \n",
    "    i = i+1 \n",
    "    \n",
    "print(sum)\n",
    "</pre>\n",
    "\n",
    "a) 0 <br/>\n",
    "b) 10 <br/>\n",
    "c) 4<br/>\n",
    "d) None of the above"
   ]
  },
  {
   "cell_type": "markdown",
   "metadata": {},
   "source": [
    "<b>Answer: Option (b)</b>"
   ]
  },
  {
   "cell_type": "markdown",
   "metadata": {},
   "source": [
    "<h3>Q45. What is the output of the code?</h3><br/>\n",
    "<pre>\n",
    "while 4 == 4: \n",
    "    print('4')\n",
    "</pre>\n",
    "\n",
    "a) 4 is printed once <br/>\n",
    "b) 4 is printed four times <br/>\n",
    "c) 4 is printed infinitely until the program closes<br/>\n",
    "d) Syntax error<br/>"
   ]
  },
  {
   "cell_type": "markdown",
   "metadata": {},
   "source": [
    "<b>Answer: Option (c)</b>"
   ]
  },
  {
   "cell_type": "markdown",
   "metadata": {},
   "source": [
    "<h3>Q46. Is it better to use the for loop instead of while if we are iterating through a sequence?</h3><br/>\n",
    "a) No, it’s better to use the while loop. <br/> \n",
    "b) Yes, for loop is more pythonic choice. <br/>\n",
    "c) No, we cannot iterate through a sequence using a while loop.<br/>\n",
    "d) No, we cannot iterate through a sequence using loops.<br/>"
   ]
  },
  {
   "cell_type": "markdown",
   "metadata": {},
   "source": [
    "<b>Answer: Option (b)</b>"
   ]
  },
  {
   "cell_type": "markdown",
   "metadata": {},
   "source": [
    "<h3>Q47. Which of the following statement is true? </h3><br/>\n",
    "a) “break”- It terminates the loop containing it. <br/>\n",
    "b) “continue” - It is used to skip the rest of the code inside the loops. <br/>\n",
    "c) break and continue: These are almost always used with if, if...else and if...elif...else statements.<br/>\n",
    "d) All of the above."
   ]
  },
  {
   "cell_type": "markdown",
   "metadata": {},
   "source": [
    "<b>Answer: Option (d)</b>"
   ]
  },
  {
   "cell_type": "markdown",
   "metadata": {},
   "source": [
    "<h3>Q48. What is the output of the code?</h3>\n",
    "<pre>\n",
    "for char in 'PYTHON STRING': \n",
    "    if char == ' ': \n",
    "        break \n",
    "    print(char, end='') \n",
    "    if char == 'O': \n",
    "        continue\n",
    "</pre>\n",
    "\n",
    "a) PYTHON <br/>\n",
    "b) PYTHONSTRING <br/>\n",
    "c) PYTHN<br/>\n",
    "d) STRING<br/>"
   ]
  },
  {
   "cell_type": "markdown",
   "metadata": {},
   "source": [
    "<b>Answer: Option (a)</b>"
   ]
  },
  {
   "cell_type": "markdown",
   "metadata": {},
   "source": [
    "<h3>Q49. Which of the statement is true about the “pass” statement? </h3><br/>\n",
    "a) Python interpreter- It ignores the “pass” statement like comments.<br/>\n",
    "b) Pass statement: It terminates the loop containing pass statement.<br/>\n",
    "c) It is used as the placeholder for future implementation of functions, loops, etc<br/>\n",
    "d) All of the above.<br/>"
   ]
  },
  {
   "cell_type": "markdown",
   "metadata": {},
   "source": [
    "<b>Answer: Option (d)</b>"
   ]
  },
  {
   "cell_type": "markdown",
   "metadata": {},
   "source": [
    "<h3>Q50. In regards to separated value files such as .csv and .tsv, what is the delimiter?</h3><br/>\n",
    "a) Anywhere the comma (,) character is used in the file. <br/>\n",
    "b) Delimiters are not used in separated value files. <br/>\n",
    "c) Any character such as the comma (,) or tab (\\t) that is used to separate the column data. <br/>\n",
    "d) Any character such as the comma (,) or tab (\\t) that is used to separate the row data<br/>"
   ]
  },
  {
   "cell_type": "markdown",
   "metadata": {},
   "source": [
    "<b>Answer: Option (c)</b>"
   ]
  },
  {
   "cell_type": "markdown",
   "metadata": {},
   "source": [
    "<h3>Q51. In separated value files such as .csv and .tsv, what does the first row in the file typically contain?</h3><br/>\n",
    "a) The column names of the data. <br/>\n",
    "b) The author of the table data. <br/>\n",
    "c) The source of the data <br/>\n",
    "d) Notes about the table data<br/>"
   ]
  },
  {
   "cell_type": "markdown",
   "metadata": {},
   "source": [
    "<b>Answer: Option (a)</b>"
   ]
  },
  {
   "cell_type": "markdown",
   "metadata": {},
   "source": [
    "<h3>Q52. Assume you have a file object my_data, which has properly opened a separated value file that uses the tab character (\\t) as the delimiter. What is the proper way to open the file using the Python CSV module and assign it to the variable csv_reader?<br/>\n",
    "Assume that csv has already been imported. </h3><br/>\n",
    "a) csv.tab_reader(my_data)<br/>\n",
    "b) csv.reader(my_data, delimiter='\\t') <br/>\n",
    "c) csv.reader(my_data) <br/>\n",
    "d) csv.reader(my_data, tab_delimited=True)<br/>"
   ]
  },
  {
   "cell_type": "markdown",
   "metadata": {},
   "source": [
    "<b>Answer: Option (b)</b>"
   ]
  },
  {
   "cell_type": "markdown",
   "metadata": {},
   "source": [
    "<h3>Q53. When iterating over an object returned from csv.reader(), what is returned with each iteration? For example, given the following code block that assumes csv_reader is an object returned from csv.reader(), what would be printed to the console with each iteration?</h3> <br/>\n",
    "<pre>\n",
    "for item in csv_reader: \n",
    "    print(item) \n",
    "</pre>\n",
    "a) The full line of the file as a string <br/>\n",
    "b) The row data as a list <br/>\n",
    "c) The individual value data that is separated by the delimiter <br/>\n",
    "d) The column data as a list"
   ]
  },
  {
   "cell_type": "markdown",
   "metadata": {},
   "source": [
    "<b>Answer: Option (b)</b>"
   ]
  },
  {
   "cell_type": "markdown",
   "metadata": {},
   "source": [
    "<h3>Q54. When writing to a CSV file using the .writerow() method of the csv.DictWriter object, what must each key in the input dict represent? Below is an example:</h3>\n",
    "<pre>\n",
    "with open('test_file.csv', mode='w') as csv_file: \n",
    "    writer = csv.DictWriter( csv_file, fieldnames=['first_col', 'second_col'] ) \n",
    "    writer.writeheader() \n",
    "# This input dictionary is what the question is referring # to and is not necessarily correct as shown.\n",
    "writer.writerow({'key1':'value1', 'key2':'value2'})\n",
    "</pre>\n",
    "a) Each key indicates the row index as an integer for where the data should go <br/>\n",
    "b) Each key must match up to the field names (index names) used to identify the row data <br/>\n",
    "c) Each key must match up to the field names (column names) used to identify the column data <br/>\n",
    "d) Each key indicates the column index as an integer for where the value should go<br/>"
   ]
  },
  {
   "cell_type": "markdown",
   "metadata": {},
   "source": [
    "<b>Answer: Option (c)</b>"
   ]
  },
  {
   "cell_type": "markdown",
   "metadata": {},
   "source": [
    "<h3>Q55. Which is the correct way to open the CSV file hrdata.csv for reading using the pandas package? Assume that the pandas package has already been imported.</h3><br/> \n",
    "a) pandas.open_csv('hrdata.csv', 'r') <br/>\n",
    "b) pandas.read_table('hrdata.csv') <br/>\n",
    "c) pandas.read_csv('hrdata.csv') <br/>\n",
    "d) pandas.open('hrdata.csv','r')<br/>"
   ]
  },
  {
   "cell_type": "markdown",
   "metadata": {},
   "source": [
    "<b>Answer: Option (c)</b>"
   ]
  },
  {
   "cell_type": "markdown",
   "metadata": {},
   "source": [
    "<h3>Q56. By default, pandas uses 0-based indices for indexing rows. Which is the correct way to import the CSV file hrdata.csv for reading and using the 'Name' column as the index row instead?</h3><br/> \n",
    "Below is the contents of hrdata.csv <br/>\n",
    "Name,Hire Date,Salary,Sick Days remaining <br/>\n",
    "Fred,10/10/10,10000,10<br/>\n",
    "\n",
    "a) pandas.read_csv('hrdata.csv', index_col='Name') <br/>\n",
    "b) pandas.read_csv('hrdata.csv', index=0, index_col_name='Name') <br/>\n",
    "c) pandas.read_csv('hrdata.csv', index='Name') <br/>\n",
    "d) pandas.read_csv('hrdata.csv', index_col=0)<br/>"
   ]
  },
  {
   "cell_type": "markdown",
   "metadata": {},
   "source": [
    "<b>Answer: Option (a)</b>"
   ]
  },
  {
   "cell_type": "markdown",
   "metadata": {},
   "source": [
    "<h3>Q57. Given the file dog_breeds.txt, which of the following is the correct way to open the file for reading as a text file? Select all that apply. </h3><br/>\n",
    "a) open('dog_breeds.txt', 'w') <br/>\n",
    "b) open('dog_breeds.txt', 'r') <br/>\n",
    "c) open('dog_breeds.txt') <br/>\n",
    "d) open('dog_breeds.txt', 'wb') <br/>\n",
    "e) open('dog_breeds.txt', 'rb')<br/>"
   ]
  },
  {
   "cell_type": "markdown",
   "metadata": {},
   "source": [
    "<b>Answer: Option (b) and (c)</b>"
   ]
  },
  {
   "cell_type": "markdown",
   "metadata": {},
   "source": [
    "<h3>Q58. Given the following directory structure:</h3><br/>\n",
    "<pre>\n",
    "animals/ \n",
    "│ \n",
    "├── feline/ \n",
    "│ ├── lions.gif \n",
    "│ └── tigers.gif \n",
    "│ ├── ursine/ \n",
    "│ └── bears.gif \n",
    "│ └── animals.csv\n",
    "</pre>\n",
    "Assuming that the cwd is in the root folder where animals reside, what is the full path to the feline folder?"
   ]
  },
  {
   "cell_type": "markdown",
   "metadata": {},
   "source": [
    "<b>Answer:</b>\n",
    "<pre>\n",
    "import os\n",
    "from pathlib import Path\n",
    "cwd = os.getcwd()\n",
    "feline_dir = Path(cwd) / 'feline'\n",
    "</pre>"
   ]
  },
  {
   "cell_type": "markdown",
   "metadata": {},
   "source": [
    "<h3>Q59. Given the file jack_russell.png, which of the following is the correct way to open the file for reading as a buffered binary file? Select all that apply.</h3><br/>\n",
    "\n",
    "open('jack_russell.png', 'rb') <br/>\n",
    "open('jack_russell.png', bytes=True) <br/>\n",
    "open('jack_russell.png', 'r') <br/>\n",
    "open('jack_russell.png') <br/>\n",
    "open('jack_russell.png', 'wb')<br/>"
   ]
  },
  {
   "cell_type": "markdown",
   "metadata": {},
   "source": [
    "<b>Answer: open('jack_russell.png', 'rb')</b>"
   ]
  },
  {
   "cell_type": "markdown",
   "metadata": {},
   "source": [
    "<h3>Q60. Using the same directory structure as before:</h3><br/>\n",
    "<pre>\n",
    "animals/ \n",
    "│ \n",
    "├── feline/ \n",
    "│ ├── lions.gif \n",
    "│ └── tigers.gif \n",
    "│ ├── ursine/ \n",
    "│ └── bears.gif \n",
    "│ └── animals.csv\n",
    "</pre>\n",
    "\n",
    "Assuming that the cwd is in the root folder where Animals reside, what is the full path to the file bears.gif?"
   ]
  },
  {
   "cell_type": "markdown",
   "metadata": {},
   "source": [
    "<b>Answer:</b>\n",
    "<pre>\n",
    "import os\n",
    "from pathlib import Path\n",
    "cwd = os.getcwd()\n",
    "ursine_dir = Path(cwd) / 'ursine'\n",
    "print(str(ursine_dir)+'/bears.gif')\n",
    "</pre>"
   ]
  },
  {
   "cell_type": "markdown",
   "metadata": {},
   "source": [
    "<h3>Q61. Whenever possible, what is the recommended way to ensure that a file object is properly closed after usage? </h3><br/>\n",
    "a) Making sure that you use the .close() method before the end of the script <br/>\n",
    "b) It doesn’t matter <br/>\n",
    "c) By using the try/finally block <br/>\n",
    "d) By using the with statement<br/>"
   ]
  },
  {
   "cell_type": "markdown",
   "metadata": {},
   "source": [
    "<b>Answer: Option (d)</b>"
   ]
  },
  {
   "cell_type": "markdown",
   "metadata": {},
   "source": [
    "<h3>Q62. Using the same directory structure as before:</h3><br/>\n",
    "<pre>\n",
    "animals/ \n",
    "│ \n",
    "├── feline/ \n",
    "│ ├── lions.gif \n",
    "│ └── tigers.gif \n",
    "│ ├── ursine/ \n",
    "│ └── bears.gif \n",
    "│ └── animals.csv\n",
    "</pre>\n",
    "\n",
    "Assuming that the cwd is in the feline folder, what is the relative path to the file bears.gif?"
   ]
  },
  {
   "cell_type": "markdown",
   "metadata": {},
   "source": [
    "<b>Answer: ../ursine/bears.gif</b>"
   ]
  },
  {
   "cell_type": "markdown",
   "metadata": {},
   "source": [
    "<h3>Q63. When reading a file using the file object, what method is best for reading the entire file into a single string?</h3><br/>\n",
    "a) .read_file_to_str() <br/>\n",
    "b) .read() <br/>\n",
    "c) .readlines() <br/>\n",
    "d) .readline()<br/>"
   ]
  },
  {
   "cell_type": "markdown",
   "metadata": {},
   "source": [
    "<b>Answer: Option (b)</b>"
   ]
  },
  {
   "cell_type": "markdown",
   "metadata": {},
   "source": [
    "<h3>Q64. The value 1.73 rounded to one decimal place using the “rounding up” strategy is… </h3><br/>\n",
    "a) 1.8 <br/>\n",
    "b) 1.7"
   ]
  },
  {
   "cell_type": "markdown",
   "metadata": {},
   "source": [
    "<b>Answer: Option (a)</b>"
   ]
  },
  {
   "cell_type": "markdown",
   "metadata": {},
   "source": [
    "<h3>Q65. The value -2.961 rounded to two decimal places using the “rounding down” strategy is… </h3><br/>\n",
    "a) -2.96 <br/>\n",
    "b) -2.97 <br/>"
   ]
  },
  {
   "cell_type": "markdown",
   "metadata": {},
   "source": [
    "<b>Answer: Option(b)</b>"
   ]
  },
  {
   "cell_type": "markdown",
   "metadata": {},
   "source": [
    "<h3>Q66. When a value is truncated to 3 decimal places, which of the following is true? </h3><br/>\n",
    "a) Positive numbers are rounded up, and negative numbers are rounded down. <br/>\n",
    "b) Positive numbers are rounded down, and negative numbers are rounded up. <br/>\n",
    "c) Both positive and negative numbers are rounded up. <br/>\n",
    "d) Both positive and negative numbers are rounded down.<br/>"
   ]
  },
  {
   "cell_type": "markdown",
   "metadata": {},
   "source": [
    "<b>Answer: Option (b)</b>"
   ]
  },
  {
   "cell_type": "markdown",
   "metadata": {},
   "source": [
    "<h3>Q67. The value -0.045 rounded to 2 decimal places using the “round half away from zero” strategy is…</h3><br/>\n",
    "a) -0.05 <br/>\n",
    "b) -0.04 <br/>"
   ]
  },
  {
   "cell_type": "markdown",
   "metadata": {},
   "source": [
    "<b>Option: (a)</b>"
   ]
  },
  {
   "cell_type": "markdown",
   "metadata": {},
   "source": [
    "<h3>Q68. Which rounding strategy does Python’s built-in round() function use?</h3><br/>\n",
    "a) Round half down <br/>\n",
    "b) Round half away from zero <br/>\n",
    "c) Round half up <br/>\n",
    "d) Round half to even<br/>"
   ]
  },
  {
   "cell_type": "markdown",
   "metadata": {},
   "source": [
    "<b>Answer: Option (d)</b>"
   ]
  },
  {
   "cell_type": "markdown",
   "metadata": {},
   "source": [
    "<h3>Q69. The value 4.65 rounded to one decimal place using the “round half to even” strategy is… </h3><br/>\n",
    "a) 4.6 <br/>\n",
    "b) 4.7<br/>"
   ]
  },
  {
   "cell_type": "markdown",
   "metadata": {},
   "source": [
    "<b>Answer: Option (b)</b>"
   ]
  },
  {
   "cell_type": "markdown",
   "metadata": {},
   "source": [
    "<h3>Q70. Which problem arises due to the multiple inheritances, if hierarchical inheritance is used previously for its base classes?</h3><br/> \n",
    "a) Diamond <br/>\n",
    "b) Circle <br/>\n",
    "c) Triangle <br/>\n",
    "d) Loop<br/>"
   ]
  },
  {
   "cell_type": "markdown",
   "metadata": {},
   "source": [
    "<b>Answer: Option (a)</b>"
   ]
  },
  {
   "cell_type": "markdown",
   "metadata": {},
   "source": [
    "<h3>Q72. If class a inherits class b and class c as “class a: public class b, public class c {// class body ;}; ”, which class constructor will be called first? </h3><br/> \n",
    "a) Class a. <br/>\n",
    "b) Class b. <br/>\n",
    "c) Class c. <br/>\n",
    "d) All together.<br/>"
   ]
  },
  {
   "cell_type": "markdown",
   "metadata": {},
   "source": [
    "<b>Answer: Option(b) <br/>but I am bit skeptical about question because just having inheritence code doesn't mean which constructor will be called untill it is mentioned which class object is getting created.</b>"
   ]
  },
  {
   "cell_type": "markdown",
   "metadata": {},
   "source": [
    "<h3>Q73.If all the members of all base classes are private then, </h3><br/>\n",
    "a) There won’t be any use of multiple inheritance <br/>\n",
    "b) It will make all members as public. <br/>\n",
    "c) Derived class can still access them in the multiple inheritance <br/>\n",
    "d) Compile-time error<br/>"
   ]
  },
  {
   "cell_type": "markdown",
   "metadata": {},
   "source": [
    "<b>Answer: Option (a)</b>"
   ]
  },
  {
   "cell_type": "markdown",
   "metadata": {},
   "source": [
    "<h3>Q74. Can the derived class be made abstract if multiple inheritance is used? </h3>\n",
    "a) No, because other classes must be abstract too <br/>\n",
    "b) Yes, if all the functions are implemented<br/>\n",
    "c) Yes, if all the methods are predefined <br/>\n",
    "d) No, since constructors won’t be there<br/>"
   ]
  },
  {
   "cell_type": "markdown",
   "metadata": {},
   "source": [
    "<b>Answer: Option (a)</b>"
   ]
  },
  {
   "cell_type": "markdown",
   "metadata": {},
   "source": [
    "<h3>Q75. Which among the following best defines the multilevel inheritance?</h3><br/>\n",
    "a) A class derived from another derived class <br/>\n",
    "b) Classes being derived from other derived classes <br/>\n",
    "c) Continuing single level inheritance <br/>\n",
    "d) Class which have more than one parent<br/>"
   ]
  },
  {
   "cell_type": "markdown",
   "metadata": {},
   "source": [
    "<b>Answer: Option (a)</b>"
   ]
  },
  {
   "cell_type": "markdown",
   "metadata": {},
   "source": [
    "<h3>Q76. If there are 5 classes, E is derived from D, D from C, C from B and B from A. Which class constructor will be called first if the object of E or D is created? </h3><br/> \n",
    "a) A <br/>\n",
    "b) B <br/>\n",
    "c) C <br/>\n",
    "d) A and B <br/>"
   ]
  },
  {
   "cell_type": "markdown",
   "metadata": {},
   "source": [
    "<b>Answer: Option (a)</b>"
   ]
  },
  {
   "cell_type": "markdown",
   "metadata": {},
   "source": [
    "<h3>Q77. Which Class is having the highest degree of abstraction in multilevel inheritance of 5 levels?</h3><br/>\n",
    "a) Class at 1st level <br/>\n",
    "b) Class 2nd last level <br/>\n",
    "c) Class at 5th level <br/>\n",
    "d) All with same abstraction<br/>"
   ]
  },
  {
   "cell_type": "markdown",
   "metadata": {},
   "source": [
    "<b>Answer: Option (a)</b>"
   ]
  },
  {
   "cell_type": "markdown",
   "metadata": {},
   "source": [
    "<h3>Q78. Multilevel inheritance allows _________________ in the program.</h3><br/>\n",
    "a) Only 7 levels of inheritance <br/>\n",
    "b) At least 7 levels of inheritance <br/>\n",
    "c) At most 16 levels of inheritance <br/>\n",
    "d) As many levels of inheritance as required<br/>"
   ]
  },
  {
   "cell_type": "markdown",
   "metadata": {},
   "source": [
    "<b>Answer: Option (d)</b>"
   ]
  },
  {
   "cell_type": "markdown",
   "metadata": {},
   "source": [
    "<h3>Q79. If all the classes used parameterized constructors and no default constructor then, ___________ </h3><br/> \n",
    "a) The object of lower-level classes can’t be created <br/>\n",
    "b) Object of lower-level classes must call parent class constructors explicitly<br/>\n",
    "c) Object of lower-level classes must define all the default constructors <br/>\n",
    "d) Only object of first-class can be created, which is first-parent"
   ]
  },
  {
   "cell_type": "markdown",
   "metadata": {},
   "source": [
    "<b>Answer: Option (b)</b>"
   ]
  },
  {
   "cell_type": "markdown",
   "metadata": {},
   "source": [
    "<h3>Q80. Which is the universal exception handler class? </h3>\n",
    "a) Object <br/> \n",
    "b) Math <br/>\n",
    "c) Errors <br/>\n",
    "d) Exceptions<br/>"
   ]
  },
  {
   "cell_type": "markdown",
   "metadata": {},
   "source": [
    "<b>Answer: Option(d)</b>"
   ]
  },
  {
   "cell_type": "markdown",
   "metadata": {},
   "source": [
    "<h3>Q81. What are two exception classes in the hierarchy of java exceptions class? </h3><br/>\n",
    "a) Runtime exceptions only <br/>\n",
    "b) Compile-time exceptions only <br/>\n",
    "c) Runtime exceptions and other exceptions <br/> \n",
    "d) Other exceptions<br/>"
   ]
  },
  {
   "cell_type": "markdown",
   "metadata": {},
   "source": [
    "<b>Answer: Option (c) <br/>\n",
    "I assuming the question is about class names in java not about concepts.</b>"
   ]
  },
  {
   "cell_type": "markdown",
   "metadata": {},
   "source": [
    "<h3>Q82. Which are the two blocks that are used to check error and handle the error? </h3>\n",
    "a) Try and catch <br/> \n",
    "b) Trying and catching <br/> \n",
    "c) Do and while <br/>\n",
    "d) TryDo and Check <br/>"
   ]
  },
  {
   "cell_type": "markdown",
   "metadata": {},
   "source": [
    "<b>Answer: Option (a)</b>"
   ]
  },
  {
   "cell_type": "markdown",
   "metadata": {},
   "source": [
    "<h3>Q83. To catch the exceptions ___________________ </h3> <br/>\n",
    "a) An object must be created to catch the exception <br/>\n",
    "b) A variable should be created to catch the exception <br/>\n",
    "c) An array should be created to catch all the exceptions <br/>\n",
    "d) A string has to be created to store exception<br/>"
   ]
  },
  {
   "cell_type": "markdown",
   "metadata": {},
   "source": [
    "<b>Answer: Option (a)</b>"
   ]
  },
  {
   "cell_type": "markdown",
   "metadata": {},
   "source": [
    "<h3>Q84. Which class is used to handle the input and output exceptions?</h3><br/>\n",
    "a) InputOutput <br/> \n",
    "b) InputOutputExceptions <br/>\n",
    "c) IOExceptions <br/>\n",
    "d) ExceptionsIO<br/>"
   ]
  },
  {
   "cell_type": "markdown",
   "metadata": {},
   "source": [
    "<b>Answer: Option (c) <br/> Option c need correction, class name is IOException not IOExceptions</b>"
   ]
  },
  {
   "cell_type": "markdown",
   "metadata": {},
   "source": [
    "<h3>Q85. Which among the following is true for the class exceptions? </h3><br/>\n",
    "a) Only base class can give rise to the exceptions <br/>\n",
    "b) Only derived class can give rise to exceptions <br/>\n",
    "c) Either base or derived class may produce exceptions <br/>\n",
    "d) Both base class and derived class may produce exceptions <br/>"
   ]
  },
  {
   "cell_type": "markdown",
   "metadata": {},
   "source": [
    "<b>Aplogies but question lags clarity, whether it is talking about java class Exception or inheritence tree of Exception class in java or actually throwing an exception</b>"
   ]
  },
  {
   "cell_type": "markdown",
   "metadata": {},
   "source": [
    "<h3>Q86. If both base and derived class caught the exceptions, _____.</h3><br/>\n",
    "a) Then catch block of a derived class must be defined before the base class <br/> \n",
    "b) Then catch block of the base class must be defined before the derived class <br/>\n",
    "c) Then catch block of base and derived classes don't matter. <br/>\n",
    "d) catch block of the base and derived classes are not mandatory to be defined<br/>"
   ]
  },
  {
   "cell_type": "markdown",
   "metadata": {},
   "source": [
    "<b>Answer: Option (a)</b>"
   ]
  },
  {
   "cell_type": "markdown",
   "metadata": {},
   "source": [
    "<h3>Q87. The catching of base class the exception _________ in java. </h3><br/> \n",
    "a) After derived class is not allowed by the compiler <br/>\n",
    "b) Before derived class is not allowed by the compiler <br/>\n",
    "c) Before derived class is allowed <br/>\n",
    "d) After derived class can’t be done<br/>"
   ]
  },
  {
   "cell_type": "markdown",
   "metadata": {},
   "source": [
    "<b>Answer: Option (b)</b>"
   ]
  },
  {
   "cell_type": "markdown",
   "metadata": {},
   "source": [
    "<h3>Q88. Which of the following handles the undefined class in the program? </h3> <br/>\n",
    "a) ClassNotFound <br/>\n",
    "b) NoClassException <br/>\n",
    "c) ClassFoundException <br/>\n",
    "d) ClassNotFoundException<br/>"
   ]
  },
  {
   "cell_type": "markdown",
   "metadata": {},
   "source": [
    "<b>Answer: Option (d)</b>"
   ]
  },
  {
   "cell_type": "markdown",
   "metadata": {},
   "source": [
    "<h3>Q89. Which among the following is true?</h3> <br/>\n",
    "a) Only the base class catch the blocks are important. <br/>\n",
    "b) Only the derived class catch blocks are important. <br/>\n",
    "c) Both the base and derived class catch the blocks are important. <br/>\n",
    "d) If the base and derived classes both produce exceptions, the program doesn’t run.<br/>"
   ]
  },
  {
   "cell_type": "markdown",
   "metadata": {},
   "source": [
    "<b>Answer: Option (c)</b>"
   ]
  },
  {
   "cell_type": "markdown",
   "metadata": {},
   "source": [
    "<h3>Q90. Which condition among the following might result in memory exception? </h3> <br/>\n",
    "a) False if conditions <br/>\n",
    "b) Nested if conditions that are all false <br/>\n",
    "c) Infinite loops <br/>\n",
    "d) The loop that runs exactly 99 times<br/>"
   ]
  },
  {
   "cell_type": "markdown",
   "metadata": {},
   "source": [
    "<b>Answer: Option (c)</b>"
   ]
  },
  {
   "cell_type": "markdown",
   "metadata": {},
   "source": [
    "<h3>Q91. Which among the following is the correct definition for static member functions?</h3><br/> \n",
    "a) Functions created to allocate the constant values to each object <br/>\n",
    "b) Functions made to maintain a single copy of member functions for all the objects <br/>\n",
    "c) Functions created to define the static members <br/>\n",
    "d) Functions made to manipulate the static programs<br/>"
   ]
  },
  {
   "cell_type": "markdown",
   "metadata": {},
   "source": [
    "<b>Answer: Option (b)</b>"
   ]
  },
  {
   "cell_type": "markdown",
   "metadata": {},
   "source": [
    "<h3>Q92. The static member functions __________________ </h3><br/>\n",
    "a) Having access to all the members of the class. <br/>\n",
    "b) Having access to only constant members of a class. <br/>\n",
    "c) Having access to only the static members of a class. <br/>\n",
    "d) Having direct access to all other class members also.<br/>"
   ]
  },
  {
   "cell_type": "markdown",
   "metadata": {},
   "source": [
    "<b>Answer: Option (c)</b>"
   ]
  },
  {
   "cell_type": "markdown",
   "metadata": {},
   "source": [
    "<h3>Q93. Which is the correct syntax to access the static member functions with a class name? </h3><br/> \n",
    "a) className . functionName; <br/>\n",
    "b) className -> functionName; <br/>\n",
    "c) className : functionName; <br/>\n",
    "d) className :: functionName;<br/>"
   ]
  },
  {
   "cell_type": "markdown",
   "metadata": {},
   "source": [
    "<b>Answer: Option (a)</b>"
   ]
  },
  {
   "cell_type": "markdown",
   "metadata": {},
   "source": [
    "<h3>Q94. The static members are ______________________ </h3><br/>\n",
    "a) Created with each new object. <br/>\n",
    "b) Created twice in the program.<br/>\n",
    "c) Created as many times, the class is being used. <br/>\n",
    "d) Created and initialised, only once<br/>"
   ]
  },
  {
   "cell_type": "markdown",
   "metadata": {},
   "source": [
    "<b>Answer: Option (d)</b>"
   ]
  },
  {
   "cell_type": "markdown",
   "metadata": {},
   "source": [
    "<h3>Q95. Which among the following is true?</h3><br/> \n",
    "a) Static member functions can be overloaded. <br/>\n",
    "b) Static member functions can’t be overloaded. <br/>\n",
    "c) Static member functions can be overloaded using the derived classes. <br/>\n",
    "d) Static member functions are implicitly overloaded.<br/>"
   ]
  },
  {
   "cell_type": "markdown",
   "metadata": {},
   "source": [
    "<b>Answer: Option (a)</b>"
   ]
  },
  {
   "cell_type": "markdown",
   "metadata": {},
   "source": [
    "<h3>Q96. The static member functions _______________ </h3><br/>\n",
    "a) Can’t be declared const. <br/>\n",
    "b) Can’t be declared volatile. <br/>\n",
    "c) Can’t be declared const or volatile. <br/>\n",
    "d) Can’t be declared const, volatile, or constant volatile.<br/>"
   ]
  },
  {
   "cell_type": "markdown",
   "metadata": {},
   "source": [
    "<b>Answer: Option (b)</b>"
   ]
  },
  {
   "cell_type": "markdown",
   "metadata": {},
   "source": [
    "<h3>Q97. Which among the following can’t be used to access the members in anyway?</h3><br/> \n",
    "a) Scope resolution. <br/>\n",
    "b) Arrow operator. <br/>\n",
    "c) Single colon. <br/>\n",
    "d) Dot operator.<br/>"
   ]
  },
  {
   "cell_type": "markdown",
   "metadata": {},
   "source": [
    "<b>Answer: Option (a)</b>"
   ]
  },
  {
   "cell_type": "markdown",
   "metadata": {},
   "source": [
    "<h3>Q98. If static data member are made inline, ______________ </h3><br/>\n",
    "a) Those should be initialised outside of the class. <br/>\n",
    "b) Those can’t be initialised with the class. <br/>\n",
    "c) Those can be initialised within the class. <br/>\n",
    "d) Class members can't use those.<br/>"
   ]
  },
  {
   "cell_type": "markdown",
   "metadata": {},
   "source": [
    "<b>Answer: Option (c)</b>"
   ]
  },
  {
   "cell_type": "markdown",
   "metadata": {},
   "source": [
    "<h3>Q99. The static data member _________________ </h3><br/> \n",
    "a) It can be mutable. <br/>\n",
    "b) Can’t be mutable. <br/>\n",
    "c) Can’t be an integer.  <br/>\n",
    "d) Can’t be characters. <br/>"
   ]
  },
  {
   "cell_type": "markdown",
   "metadata": {},
   "source": [
    "<b>Answer: Option (a)</b>"
   ]
  },
  {
   "cell_type": "markdown",
   "metadata": {},
   "source": [
    "<h3>Q100. We can use the static member functions and static data member __________________.</h3><br/>\n",
    "a) Even if a class object is not created <br/>\n",
    "b) Even if a class is not defined <br/>\n",
    "c) Even if a class doesn’t contain any static member <br/>\n",
    "d) Even if a class doesn’t have a complete definition<br/>"
   ]
  },
  {
   "cell_type": "markdown",
   "metadata": {},
   "source": [
    "<b>Answer: Option (a)</b>"
   ]
  },
  {
   "cell_type": "markdown",
   "metadata": {},
   "source": [
    "<h3>Q101. Point out the wrong statement: </h3><br/>\n",
    "a) ipython is an enhanced interactive python shell. <br/>\n",
    "b) Matplotlib: It enables us to plot graphics. <br/>\n",
    "c) rPy provides lots of scientific routines that work on top of NumPy. <br/>\n",
    "d) all of the mentioned."
   ]
  },
  {
   "cell_type": "markdown",
   "metadata": {},
   "source": [
    "<b>Answer: Option (d)</b>"
   ]
  },
  {
   "cell_type": "markdown",
   "metadata": {},
   "source": [
    "<h3>Q102. The ________ function returns its argument with the modified shape, whereas the ________ method modifies the array itself.</h3><br/> \n",
    "a) reshape, resize. <br/>\n",
    "b) resize, reshape. <br/>\n",
    "c) reshape2,resize. <br/>\n",
    "d) all of the mentioned.<br/>"
   ]
  },
  {
   "cell_type": "markdown",
   "metadata": {},
   "source": [
    "<b>Answer: Option (a)</b>"
   ]
  },
  {
   "cell_type": "markdown",
   "metadata": {},
   "source": [
    "<h3>Q103. To create sequences of the numbers, NumPy provides a function __________ analogous to range that returns arrays instead of lists.</h3> <br/>\n",
    "a) arrange. <br/>\n",
    "b) aspace. <br/>\n",
    "c) aline. <br/>\n",
    "d) all of the mentioned.<br/>"
   ]
  },
  {
   "cell_type": "markdown",
   "metadata": {},
   "source": [
    "<b>Answer: Option (a)</b>"
   ]
  },
  {
   "cell_type": "markdown",
   "metadata": {},
   "source": [
    "<h3>Q104. Point out the correct statement:</h3><br/> \n",
    "a) NumPy main object is the Homogeneous -Multidimensional array. <br/>\n",
    "b) In Numpy, dimensions are called axes. <br/>\n",
    "c) Numpy array class is called ndarray. <br/>\n",
    "d) All of the Mentioned<br/>"
   ]
  },
  {
   "cell_type": "markdown",
   "metadata": {},
   "source": [
    "<b>Answer: Option (c)</b>"
   ]
  },
  {
   "cell_type": "markdown",
   "metadata": {},
   "source": [
    "<h3>Q105. Which of the following function stack 1D array as the columns into the 2D array? </h3><br/>\n",
    "a) row_stack. <br/>\n",
    "b) column_stack. <br/>\n",
    "c) com_stack. <br/>\n",
    "d) all of the mentioned.<br/>"
   ]
  },
  {
   "cell_type": "markdown",
   "metadata": {},
   "source": [
    "<b>Answer: Option (b)</b>"
   ]
  },
  {
   "cell_type": "markdown",
   "metadata": {},
   "source": [
    "<h3>Q106. ndarray is also known as an alias array.</h3><br/> \n",
    "a) True <br/>\n",
    "b) False <br/>"
   ]
  },
  {
   "cell_type": "markdown",
   "metadata": {},
   "source": [
    "<b>Answer: Option (a)</b>"
   ]
  },
  {
   "cell_type": "markdown",
   "metadata": {},
   "source": [
    "<h3>Q107. Which of the following method creates the new array object that looks at the same data? </h3><br/>\n",
    "a) view. <br/>\n",
    "b) copy. <br/>\n",
    "c) paste. <br/>\n",
    "d) all of the mentioned.<br/>"
   ]
  },
  {
   "cell_type": "markdown",
   "metadata": {},
   "source": [
    "<b>Answer: Option (a)</b>"
   ]
  },
  {
   "cell_type": "markdown",
   "metadata": {},
   "source": [
    "<h3>Q108. Which of the functions can be used to combine the different vectors to obtain the result for each n-uplet? </h3>\n",
    "a) iid_. <br/> \n",
    "b) ix_. <br/>\n",
    "c) ixd_. <br/>\n",
    "d) all of the mentioned.<br/>"
   ]
  },
  {
   "cell_type": "markdown",
   "metadata": {},
   "source": [
    "<b>Answer: Option (b)</b>"
   ]
  },
  {
   "cell_type": "markdown",
   "metadata": {},
   "source": [
    "<h3>Q109. ndarray.dataitemSize is the buffer containing actual elements of an array.</h3> \n",
    "a) True <br/>\n",
    "b) False <br/>"
   ]
  },
  {
   "cell_type": "markdown",
   "metadata": {},
   "source": [
    "<b>Answer: Do we have any such property for ndarray. data and itemsize are 2 different attributes of ndarray where data is buffer containing actual elements of an array.</b>"
   ]
  },
  {
   "cell_type": "markdown",
   "metadata": {},
   "source": [
    "<h3>Q110. Which of the following is in the NumPy library? </h3>\n",
    "a) The n-dimensional array object <br/>\n",
    "b) The tools for integrating C/C++ and the Fortran code <br/>\n",
    "c) Fourier transform <br/>\n",
    "d) all of the Mentioned<br/>"
   ]
  },
  {
   "cell_type": "markdown",
   "metadata": {},
   "source": [
    "<b>Answer: Option (d)</b>"
   ]
  },
  {
   "cell_type": "markdown",
   "metadata": {},
   "source": [
    "<h3>Q111. Which of the following sets the size of the buffer used in ufuncs ?</h3>\n",
    "a) bufsize(size) <br/> \n",
    "b) setsize(size) <br/>\n",
    "c) setbufsize(size) <br/>\n",
    "d) all of the Mentioned <br/>"
   ]
  },
  {
   "cell_type": "markdown",
   "metadata": {},
   "source": [
    "<b>Answer: Option (c)<b/>"
   ]
  },
  {
   "cell_type": "markdown",
   "metadata": {},
   "source": [
    "<h3>Q112. Point out the wrong statement: </h3>\n",
    "a) A universal function is the function that operates upon the “ndarrays” in an element-by-element fashion <br/>\n",
    "b) In Numpy, universal functions are the instances of numpy.ufunction class <br/>\n",
    "c) Many of the built-in functions are implemented in compiled C code <br/>\n",
    "d) All of the Mentioned<br/>"
   ]
  },
  {
   "cell_type": "markdown",
   "metadata": {},
   "source": [
    "<b>Answer: Option (c)</b><br/>\n",
    "Can you please make sure that options of such questions should be self explantatory. Sometimes it is hard to link built in function of what?"
   ]
  },
  {
   "cell_type": "markdown",
   "metadata": {},
   "source": [
    "<h3>Q113. Which of the following attribute should be used while checking the type combination input and output?</h3>\n",
    "a) .types  <br/>\n",
    "b) .type <br/>\n",
    "c) .class <br/>\n",
    "d) all of the Mentioned<br/>"
   ]
  },
  {
   "cell_type": "markdown",
   "metadata": {},
   "source": [
    "<b>Answer: Option (a)</b>"
   ]
  },
  {
   "cell_type": "markdown",
   "metadata": {},
   "source": [
    "<h3>Q114. Which of the following returns an array of “ones” with the same shape and type as a given array? </h3>\n",
    "a) all_like <br/>\n",
    "b) ones_like <br/>\n",
    "c) one_alike <br/>\n",
    "d) all of the Mentioned<br/>"
   ]
  },
  {
   "cell_type": "markdown",
   "metadata": {},
   "source": [
    "<b>Answer: Option (b)</b>"
   ]
  },
  {
   "cell_type": "markdown",
   "metadata": {},
   "source": [
    "<h3>Q115. Point out the wrong statement: </h3>\n",
    "a) Each universal function takes an array input and produces array outputs <br/>\n",
    "b) Broadcasting is used throughout NumPy to decide how to handle the disparately shaped arrays <br/>\n",
    "c) The output of the ufunc is necessarily a ndarray, if all the input arguments are ndarrays <br/>\n",
    "d) All of the Mentioned<br/>"
   ]
  },
  {
   "cell_type": "markdown",
   "metadata": {},
   "source": [
    "<b>Answer: Option (d)</b>"
   ]
  },
  {
   "cell_type": "markdown",
   "metadata": {},
   "source": [
    "<h3>Q116. Which of the following set of a floating-point error callback function or a log object?</h3> \n",
    "a) setter.  <br/>\n",
    "b) settercall. <br/>\n",
    "c) setterstack. <br/>\n",
    "d) all of the mentioned.<br/>"
   ]
  },
  {
   "cell_type": "markdown",
   "metadata": {},
   "source": [
    "<b>Answer: Option (b)</b>"
   ]
  },
  {
   "cell_type": "markdown",
   "metadata": {},
   "source": [
    "<h3>Q117. Some ufuncs can take output arguments. </h3>\n",
    "a) True <br/>\n",
    "b) False <br/>"
   ]
  },
  {
   "cell_type": "markdown",
   "metadata": {},
   "source": [
    "<b>Answer: Option (b)</b>"
   ]
  },
  {
   "cell_type": "markdown",
   "metadata": {},
   "source": [
    "<h3>Q118. ___________ decompose the elements of x into the mantissa and the two’s exponent.</h3> \n",
    "a) trunc <br/>\n",
    "b) fmod <br/>\n",
    "c) frexp <br/>\n",
    "d) ldexp<br/>"
   ]
  },
  {
   "cell_type": "markdown",
   "metadata": {},
   "source": [
    "<b>Answer: Option (c)</b>"
   ]
  },
  {
   "cell_type": "markdown",
   "metadata": {},
   "source": [
    "<h3>Q119. Which of the following function take the only a single value as input?</h3> \n",
    "a) iscomplex. <br/>\n",
    "b) minimum. <br/>\n",
    "c) fmin. <br/>\n",
    "d) all of the mentioned.<br/>"
   ]
  },
  {
   "cell_type": "markdown",
   "metadata": {},
   "source": [
    "<b>Answer: Option (a)</b>"
   ]
  },
  {
   "cell_type": "markdown",
   "metadata": {},
   "source": [
    "<h3>Q120. The array object returned by the _array_prepare_ is passed to ufunc for computation. </h3> \n",
    "a) True <br/>\n",
    "b) False <br/>"
   ]
  },
  {
   "cell_type": "markdown",
   "metadata": {},
   "source": [
    "<b>Answer: Option (a)</b>"
   ]
  },
  {
   "cell_type": "markdown",
   "metadata": {},
   "source": [
    "<h3>Q121. All pandas data structures are ___mutable but not always _______-mutable. </h3>\n",
    "a) size,value. <br/>\n",
    "b) semantic,size. <br/>\n",
    "c) value,size. <br/>\n",
    "d) none of the mentioned.<br/>"
   ]
  },
  {
   "cell_type": "markdown",
   "metadata": {},
   "source": [
    "<b>Answer: Option (c)</b>"
   ]
  },
  {
   "cell_type": "markdown",
   "metadata": {},
   "source": [
    "<h3>Q122. Point out the correct statement: </h3> \n",
    "a) Pandas consist of a set of the labelled array data structures <br/>\n",
    "b) Pandas consist of an integrated group by the engine for aggregating and the transforming data sets <br/>\n",
    "c) Pandas consist of moving window statistics <br/>\n",
    "d) All of the above mentioned.<br/>"
   ]
  },
  {
   "cell_type": "markdown",
   "metadata": {},
   "source": [
    "<b>Answer: Option (d)</b>"
   ]
  },
  {
   "cell_type": "markdown",
   "metadata": {},
   "source": [
    "<h3>Q123. Which of the following statement will import the pandas?</h3> \n",
    "a) import pandas as pd  <br/>\n",
    "b) import panda as py <br/>\n",
    "c) import pandaspy as pd <br/>\n",
    "d) all of the Mentioned<br/>"
   ]
  },
  {
   "cell_type": "markdown",
   "metadata": {},
   "source": [
    "<b>Answer: Option (a) and (b) are correct</b>"
   ]
  },
  {
   "cell_type": "markdown",
   "metadata": {},
   "source": [
    "<h3>Q124. Which of the following object did we get after reading the CSV file?</h3> \n",
    "a) DataFrame. <br/>\n",
    "b) Character Vector. <br/>\n",
    "c) Panel. <br/>\n",
    "d) All of the Mentioned<br/>"
   ]
  },
  {
   "cell_type": "markdown",
   "metadata": {},
   "source": [
    "<b>Answer: Option (a)</b>"
   ]
  },
  {
   "cell_type": "markdown",
   "metadata": {},
   "source": [
    "<h3>Q125. Point out the wrong statement: </h3>  \n",
    "a) Series is 1D labelled homogeneously-typed array. <br/>\n",
    "b) DataFrame is a general 2D labelled, size-mutable tabular structure with the potentially heterogeneously-typed columns. <br/>\n",
    "c) The panel is generally 2D labelled, also a size-mutable array. <br/>\n",
    "d) None of the Mentioned.<br/>"
   ]
  },
  {
   "cell_type": "markdown",
   "metadata": {},
   "source": [
    "<b>Answer: Option (c)</b>"
   ]
  },
  {
   "cell_type": "markdown",
   "metadata": {},
   "source": [
    "<h3>Q126. Which of the following library is similar to the pandas?</h3> \n",
    "a) numpy. <br/>\n",
    "b) RPy. <br/>\n",
    "c) OutPy. <br/>\n",
    "d) None of the mentioned.<br/>"
   ]
  },
  {
   "cell_type": "markdown",
   "metadata": {},
   "source": [
    "<b>Answer: Option (a)</b>"
   ]
  },
  {
   "cell_type": "markdown",
   "metadata": {},
   "source": [
    "<h3>Q127. Panel is a container for the Series, and DataFrame is a container for DataFrame objects. </h3> \n",
    "a) True  <br/>\n",
    "b) False <br/>"
   ]
  },
  {
   "cell_type": "markdown",
   "metadata": {},
   "source": [
    "<b>Answer: Option (b)</b>"
   ]
  },
  {
   "cell_type": "markdown",
   "metadata": {},
   "source": [
    "<h3>Q128. Which of the following is the prominent python “statistics and econometrics library”? </h3> \n",
    "a) Bokeh. <br/>\n",
    "b) Seaborn. <br/>\n",
    "c) Statsmodels. <br/>\n",
    "d) None of the mentioned.<br/>"
   ]
  },
  {
   "cell_type": "markdown",
   "metadata": {},
   "source": [
    "<b>Answer: Option (c)</b>"
   ]
  },
  {
   "cell_type": "markdown",
   "metadata": {},
   "source": [
    "<h3>Q129. Which of the following is the foundational exploratory visualisation package for the R language in the pandas ecosystem? </h3> \n",
    "a) yhat. <br/>\n",
    "b) Seaborn. <br/>\n",
    "c) Vincent. <br/>\n",
    "d) None of the mentioned.<br/>"
   ]
  },
  {
   "cell_type": "markdown",
   "metadata": {},
   "source": [
    "<b>Answer: Option (a)</b>"
   ]
  },
  {
   "cell_type": "markdown",
   "metadata": {},
   "source": [
    "<h3>Q130. Pandas consist of static and the moving window linear and panel regression.</h3> \n",
    "a) True <br/>\n",
    "b) False <br/>"
   ]
  },
  {
   "cell_type": "markdown",
   "metadata": {},
   "source": [
    "<b>Answer: Option (a)</b>"
   ]
  },
  {
   "cell_type": "markdown",
   "metadata": {},
   "source": [
    "<h3>Q131. Quandl API for Python wraps the __ REST API to returns the pandas DataFrames with time series indexes.</h3> a) Quandl.  <br/>\n",
    "b) PyDatastream. <br/>\n",
    "c) PyData. <br/>\n",
    "d) None of the Mentioned.<br/>"
   ]
  },
  {
   "cell_type": "markdown",
   "metadata": {},
   "source": [
    "<b>Answer: Option (a)</b>"
   ]
  },
  {
   "cell_type": "markdown",
   "metadata": {},
   "source": [
    "<h3>Q132. Point out the correct statement: </h3> \n",
    "a) Statsmodels provides powerful statistics, econometrics, analysis and the modelling functionality which is out of pandas’ scope <br/>\n",
    "b) Vintage leverages pandas objects as an underlying data container for the computation <br/>\n",
    "c) Bokeh is a Python interactive visualisation library for the small datasets <br/>\n",
    "d) All of the Mentioned<br/>"
   ]
  },
  {
   "cell_type": "markdown",
   "metadata": {},
   "source": [
    "<b>Answer: Option (a)</b>"
   ]
  },
  {
   "cell_type": "markdown",
   "metadata": {},
   "source": [
    "<h3>Q133.Which of the following library is used to retrieve and to acquire statistical data and metadata disseminated in SDMX 2.1? </h3>\n",
    "a) pandaSDMX <br/>\n",
    "b) freedapi <br/>\n",
    "c) Geopandas. <br/>\n",
    "d) All of the Mentioned.<br/>"
   ]
  },
  {
   "cell_type": "markdown",
   "metadata": {},
   "source": [
    "<b>Answer: Option (a)</b>"
   ]
  },
  {
   "cell_type": "markdown",
   "metadata": {},
   "source": [
    "<h3>Q134. Which of the following provides the standard API for doing computations with MongoDB?</h3> \n",
    "a) Blaze.  <br/>\n",
    "b) Geopandas. <br/>\n",
    "c) FRED. <br/>\n",
    "d) All of the Mentioned.<br/>"
   ]
  },
  {
   "cell_type": "markdown",
   "metadata": {},
   "source": [
    "<b>Answer: Option (a)</b>"
   ]
  },
  {
   "cell_type": "markdown",
   "metadata": {},
   "source": [
    "<h3>Q135. Point out the wrong statement: </h3> \n",
    "a) qgrid is an interactive grid for sorting and the filtering DataFrames <br/>\n",
    "b) Pandas DataFrames implement _repr_html_ methods which are utilised by the IPython Notebook <br/>\n",
    "c) Spyder is a cross-platform Qt-based open-source R IDE <br/>\n",
    "d) None of the Mentioned<br/>"
   ]
  },
  {
   "cell_type": "markdown",
   "metadata": {},
   "source": [
    "<b>Answer: Option (a)</b>"
   ]
  },
  {
   "cell_type": "markdown",
   "metadata": {},
   "source": [
    "<h3>Q136. Which of the following makes use of the pandas and returns data in a Series or DataFrame?</h3> \n",
    "a) pandaSDMX. <br/>\n",
    "b) freedapi. <br/>\n",
    "c) OutPy. <br/>\n",
    "d) none of the mentioned.<br/>"
   ]
  },
  {
   "cell_type": "markdown",
   "metadata": {},
   "source": [
    "<b>Answer: Option (a)</b>"
   ]
  },
  {
   "cell_type": "markdown",
   "metadata": {},
   "source": [
    "<h3>Q137. Spyder can introspect and display Pandas DataFrames. </h3> \n",
    "a) True <br/>\n",
    "b) False <br/>"
   ]
  },
  {
   "cell_type": "markdown",
   "metadata": {},
   "source": [
    "<b>Answer: Option (b)</b>"
   ]
  },
  {
   "cell_type": "markdown",
   "metadata": {},
   "source": [
    "<h3>Q138. Which of the following is used for machine learning in the python? </h3>\n",
    "a) sci-kit-learn. <br/>\n",
    "b) seaborn-learn. <br/>\n",
    "c) stats-learn. <br/>\n",
    "d) none of the mentioned.<br/>"
   ]
  },
  {
   "cell_type": "markdown",
   "metadata": {},
   "source": [
    "<b>Answer: Option (d)</b>"
   ]
  },
  {
   "cell_type": "markdown",
   "metadata": {},
   "source": [
    "<h3>Q139. The ________ project builds on top of the pandas and matplotlib to provide easy plotting of data. </h3> \n",
    "a) yhat. <br/>\n",
    "b) Seaborn. <br/>\n",
    "c) Vincent. <br/>\n",
    "d) None of the mentioned.<br/>"
   ]
  },
  {
   "cell_type": "markdown",
   "metadata": {},
   "source": [
    "<b>Answer: Option (b)</b>"
   ]
  },
  {
   "cell_type": "markdown",
   "metadata": {},
   "source": [
    "<h3>Q140 x-ray brings the labelled data power of pandas to the physical sciences. </h3> \n",
    "a) True  <br/>\n",
    "b) False <br/>"
   ]
  },
  {
   "cell_type": "markdown",
   "metadata": {},
   "source": [
    "<b>Answer: Option (a)</b>"
   ]
  },
  {
   "cell_type": "markdown",
   "metadata": {},
   "source": [
    "<h3>Q141. Which of the following is the base layer of all of the sparse has it indexed data structures?</h3> \n",
    "a) SArray. <br/>\n",
    "b) SparseArray. <br/>\n",
    "c) PyArray. <br/>\n",
    "d) None of the mentioned.<br/>"
   ]
  },
  {
   "cell_type": "markdown",
   "metadata": {},
   "source": [
    "<b>Answer: Option (b)</b>"
   ]
  },
  {
   "cell_type": "markdown",
   "metadata": {},
   "source": [
    "<h3>Q142. Point out the correct statement. </h3>\n",
    "a) All of the standard pandas data structures have to_sparse method <br/>\n",
    "b) Any sparse object can be converted back to the standard dense form by calling the to_dense <br/>\n",
    "c) The sparse objects exist for memory efficiency reasons. <br/>\n",
    "d) All of the mentioned.<br/>"
   ]
  },
  {
   "cell_type": "markdown",
   "metadata": {},
   "source": [
    "<b>Answer: Option (d)</b>"
   ]
  },
  {
   "cell_type": "markdown",
   "metadata": {},
   "source": [
    "<h3>Q143. Which of the following is not an indexed object?</h3> \n",
    "a) SparseSeries. <br/>\n",
    "b) SparseDataFrame. <br/>\n",
    "c) SparsePanel. <br/>\n",
    "d) None of the mentioned.<br/>"
   ]
  },
  {
   "cell_type": "markdown",
   "metadata": {},
   "source": [
    "<b>Answer: Option (d)</b>"
   ]
  },
  {
   "cell_type": "markdown",
   "metadata": {},
   "source": [
    "<h3>Q144. Which of the following list like data structure is used for managing the dynamic collection of SparseArrays?</h3> \n",
    "a) SparseList. <br/>\n",
    "b) GeoList. <br/>\n",
    "c) SparseSeries. <br/>\n",
    "d) All of the mentioned.<br/>"
   ]
  },
  {
   "cell_type": "markdown",
   "metadata": {},
   "source": [
    "<b>Answer: Option (a)</b>"
   ]
  },
  {
   "cell_type": "markdown",
   "metadata": {},
   "source": [
    "<h3>Q145. Point out the wrong statement.</h3> \n",
    "a) to_array. append can accept scalar values or any 2-D sequence. <br/>\n",
    "b) Two kinds of SparseIndex are implemented. <br/>\n",
    "c) The integer format keeps an arrays of all locations, where the data are not equal to the fill value. <br/>\n",
    "d) None of the mentioned.<br/>"
   ]
  },
  {
   "cell_type": "markdown",
   "metadata": {},
   "source": [
    "<b>Answer: Option (a)</b>"
   ]
  },
  {
   "cell_type": "markdown",
   "metadata": {},
   "source": [
    "<h3>Q146. Which of the following method used for transforming the Sparse-series index by the MultiIndex to a scipy.sparse.coo_matrix?</h3> \n",
    "a) SparseSeries.to_coo(). <br/>\n",
    "b) Series.to_coo(). <br/>\n",
    "c) SparseSeries.to_cooser(). <br/>\n",
    "d) None of the mentioned.<br/>"
   ]
  },
  {
   "cell_type": "markdown",
   "metadata": {},
   "source": [
    "<b>Answer: Option (a)</b>"
   ]
  },
  {
   "cell_type": "markdown",
   "metadata": {},
   "source": [
    "<h3>Q147. The integer format tracks only the locations and the sizes of blocks of data.</h3> \n",
    "a) True  <br/>\n",
    "b) False"
   ]
  },
  {
   "cell_type": "markdown",
   "metadata": {},
   "source": [
    "<b>Answer: Option (b)</b>"
   ]
  },
  {
   "cell_type": "markdown",
   "metadata": {},
   "source": [
    "<h3>Q148. Which of the following is used for the testing for membership in the list of column names?</h3> \n",
    "a) in. <br/>\n",
    "b) out. <br/>\n",
    "c) else if. <br/>\n",
    "d) none of the mentioned.<br/>"
   ]
  },
  {
   "cell_type": "markdown",
   "metadata": {},
   "source": [
    "<b>Answer: Option (a)</b>"
   ]
  },
  {
   "cell_type": "markdown",
   "metadata": {},
   "source": [
    "<h3>Q149. Which of the following indexing capabilities is used as the concise means of selecting data from a pandas object?</h3> \n",
    "a) In. <br/>\n",
    "b) ix. <br/>\n",
    "c) ipy. <br/>\n",
    "d) none of the mentioned.<br/>"
   ]
  },
  {
   "cell_type": "markdown",
   "metadata": {},
   "source": [
    "<b>Answer: Option (b)</b>"
   ]
  },
  {
   "cell_type": "markdown",
   "metadata": {},
   "source": [
    "<h3>Q150. Pandas follow the NumPy convention of raising an error when you try to convert something to a bool.</h3> \n",
    "a) True <br/>\n",
    "b) False <br/>"
   ]
  },
  {
   "cell_type": "markdown",
   "metadata": {},
   "source": [
    "<b>Answer: Option (a)</b>"
   ]
  }
 ],
 "metadata": {
  "kernelspec": {
   "display_name": "Python 3",
   "language": "python",
   "name": "python3"
  },
  "language_info": {
   "codemirror_mode": {
    "name": "ipython",
    "version": 3
   },
   "file_extension": ".py",
   "mimetype": "text/x-python",
   "name": "python",
   "nbconvert_exporter": "python",
   "pygments_lexer": "ipython3",
   "version": "3.7.5"
  }
 },
 "nbformat": 4,
 "nbformat_minor": 2
}
