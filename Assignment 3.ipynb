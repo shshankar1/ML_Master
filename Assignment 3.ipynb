{
 "cells": [
  {
   "cell_type": "markdown",
   "metadata": {},
   "source": [
    "#### 1.1.\n",
    "#### Write a function to compute 5/0 and use try/except to catch the exceptions."
   ]
  },
  {
   "cell_type": "code",
   "execution_count": 1,
   "metadata": {},
   "outputs": [
    {
     "name": "stdout",
     "output_type": "stream",
     "text": [
      "division by zero\n",
      "None\n"
     ]
    }
   ],
   "source": [
    "def divide(numerator, denominator):\n",
    "    try:\n",
    "        return numerator/denominator\n",
    "    except Exception as e:\n",
    "        print(e)\n",
    "        \n",
    "print(divide(5,0))"
   ]
  },
  {
   "cell_type": "markdown",
   "metadata": {},
   "source": [
    "#### 1.2.\n",
    "#### Implement a Python program to generate all sentences where subject is in [\"Americans\", \"Indians\"] and verb is in [\"Play\", \"watch\"] and the object is in [\"Baseball\",\"cricket\"].\n",
    "#### Hint: Subject,Verb and Object should be declared in the program as shown below.\n",
    "#### subjects=[\"Americans \",\"Indians\"]\n",
    "#### verbs=[\"play\",\"watch\"]\n",
    "#### objects=[\"Baseball\",\"Cricket\"]\n",
    "#### Output should come as below:\n",
    "#### Americans play Baseball.\n",
    "#### Americans play Cricket.\n",
    "#### Americans watch Baseball.\n",
    "#### Americans watch Cricket.\n",
    "#### Indians play Baseball.\n",
    "#### Indians play Cricket.\n",
    "#### Indians watch Baseball.\n",
    "#### Indians watch Cricket."
   ]
  },
  {
   "cell_type": "code",
   "execution_count": 2,
   "metadata": {},
   "outputs": [
    {
     "name": "stdout",
     "output_type": "stream",
     "text": [
      "Americans play Baseball\n",
      "Americans play Cricket\n",
      "Americans watch Baseball\n",
      "Americans watch Cricket\n",
      "Indians play Baseball\n",
      "Indians play Cricket\n",
      "Indians watch Baseball\n",
      "Indians watch Cricket\n"
     ]
    }
   ],
   "source": [
    "def generate_sentences(subjects, verbs, objects):\n",
    "    return [sub+' '+verb+' '+obj for sub in subjects for verb in verbs for obj in objects]\n",
    "\n",
    "sentences = generate_sentences(['Americans', 'Indians'], ['play', 'watch'], ['Baseball','Cricket'])\n",
    "print('\\n'.join(sentences))"
   ]
  },
  {
   "cell_type": "markdown",
   "metadata": {},
   "source": [
    "#### Task 2:\n",
    "#### 1.\n",
    "#### Write a function so that the columns of the output matrix are powers of the input vector.\n",
    "#### The order of the powers is determined by the increasing boolean argument. Specifically, when\n",
    "#### increasing is False, the i-th output column is the input vector raised element-wise to the power of N - i - 1.\n",
    "#### HINT: Such a matrix with a geometric progression in each row is named for Alexandre-Theophile Vandermonde."
   ]
  },
  {
   "cell_type": "code",
   "execution_count": 3,
   "metadata": {},
   "outputs": [],
   "source": [
    "def derive_vandermonde_matrix(vec, N, increasing=False):\n",
    "    if increasing is False:\n",
    "        vec.reverse()\n",
    "    output =  [[ele**i for ele in vec] for i in range(0,N)] \n",
    "    if increasing:\n",
    "        output = list(map(list, zip(*output)))\n",
    "    else:\n",
    "        output.reverse()\n",
    "        output = list(map(list, zip(*output)))\n",
    "        output.reverse()\n",
    "    return output"
   ]
  },
  {
   "cell_type": "code",
   "execution_count": 4,
   "metadata": {},
   "outputs": [
    {
     "name": "stdout",
     "output_type": "stream",
     "text": [
      "1 1 1 1 \n",
      "8 4 2 1 \n",
      "27 9 3 1 \n",
      "125 25 5 1 \n"
     ]
    }
   ],
   "source": [
    "input = [1, 2, 3, 5]\n",
    "N = 4\n",
    "\n",
    "matrix = derive_vandermonde_matrix(input, N, False)\n",
    "\n",
    "place_holder = '{} ' * N\n",
    "print(*(place_holder.format(*r) for r in matrix), sep='\\n')"
   ]
  }
 ],
 "metadata": {
  "kernelspec": {
   "display_name": "Python 3",
   "language": "python",
   "name": "python3"
  },
  "language_info": {
   "codemirror_mode": {
    "name": "ipython",
    "version": 3
   },
   "file_extension": ".py",
   "mimetype": "text/x-python",
   "name": "python",
   "nbconvert_exporter": "python",
   "pygments_lexer": "ipython3",
   "version": "3.7.5"
  }
 },
 "nbformat": 4,
 "nbformat_minor": 2
}
